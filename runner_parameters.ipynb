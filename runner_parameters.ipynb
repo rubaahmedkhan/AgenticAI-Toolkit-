{
  "nbformat": 4,
  "nbformat_minor": 0,
  "metadata": {
    "colab": {
      "provenance": [],
      "authorship_tag": "ABX9TyODVdL6BiYT+XQpdJjCfXPZ",
      "include_colab_link": true
    },
    "kernelspec": {
      "name": "python3",
      "display_name": "Python 3"
    },
    "language_info": {
      "name": "python"
    }
  },
  "cells": [
    {
      "cell_type": "markdown",
      "metadata": {
        "id": "view-in-github",
        "colab_type": "text"
      },
      "source": [
        "<a href=\"https://colab.research.google.com/github/rubaahmedkhan/AgenticAI-Toolkit-/blob/main/runner_parameters.ipynb\" target=\"_parent\"><img src=\"https://colab.research.google.com/assets/colab-badge.svg\" alt=\"Open In Colab\"/></a>"
      ]
    },
    {
      "cell_type": "code",
      "execution_count": null,
      "metadata": {
        "colab": {
          "base_uri": "https://localhost:8080/"
        },
        "id": "o54CyRAug8BJ",
        "outputId": "a00dbe58-90e0-4a2a-eed8-fda64da90068"
      },
      "outputs": [
        {
          "output_type": "stream",
          "name": "stdout",
          "text": [
            "\u001b[2K     \u001b[90m━━━━━━━━━━━━━━━━━━━━━━━━━━━━━━━━━━━━━━━━\u001b[0m \u001b[32m44.7/44.7 kB\u001b[0m \u001b[31m1.8 MB/s\u001b[0m eta \u001b[36m0:00:00\u001b[0m\n",
            "\u001b[2K   \u001b[90m━━━━━━━━━━━━━━━━━━━━━━━━━━━━━━━━━━━━━━━━\u001b[0m \u001b[32m130.6/130.6 kB\u001b[0m \u001b[31m6.0 MB/s\u001b[0m eta \u001b[36m0:00:00\u001b[0m\n",
            "\u001b[2K   \u001b[90m━━━━━━━━━━━━━━━━━━━━━━━━━━━━━━━━━━━━━━━━\u001b[0m \u001b[32m129.3/129.3 kB\u001b[0m \u001b[31m9.2 MB/s\u001b[0m eta \u001b[36m0:00:00\u001b[0m\n",
            "\u001b[2K   \u001b[90m━━━━━━━━━━━━━━━━━━━━━━━━━━━━━━━━━━━━━━━━\u001b[0m \u001b[32m155.9/155.9 kB\u001b[0m \u001b[31m8.6 MB/s\u001b[0m eta \u001b[36m0:00:00\u001b[0m\n",
            "\u001b[2K   \u001b[90m━━━━━━━━━━━━━━━━━━━━━━━━━━━━━━━━━━━━━━━━\u001b[0m \u001b[32m45.2/45.2 kB\u001b[0m \u001b[31m2.8 MB/s\u001b[0m eta \u001b[36m0:00:00\u001b[0m\n",
            "\u001b[?25h"
          ]
        }
      ],
      "source": [
        "!pip install  -qU openai-agents"
      ]
    },
    {
      "cell_type": "code",
      "source": [
        "import nest_asyncio\n",
        "nest_asyncio.apply()"
      ],
      "metadata": {
        "id": "dwuO0WonhUod"
      },
      "execution_count": null,
      "outputs": []
    },
    {
      "cell_type": "code",
      "source": [
        "import os\n",
        "\n",
        "from agents import Agent, Runner, AsyncOpenAI, OpenAIChatCompletionsModel, ModelSettings\n",
        "from agents.run import RunConfig\n",
        "from google.colab import userdata\n",
        "\n"
      ],
      "metadata": {
        "id": "CQTg0NvZhasw"
      },
      "execution_count": null,
      "outputs": []
    },
    {
      "cell_type": "code",
      "source": [
        "gemini_api_key = userdata.get(\"GEMINI_API_KEY\")\n",
        "\n",
        "\n",
        "# Check if the API key is present; if not, raise an error\n",
        "if not gemini_api_key:\n",
        "    raise ValueError(\"GEMINI_API_KEY is not set. Please ensure it is defined in your .env file.\")\n",
        "\n",
        "#Reference: https://ai.google.dev/gemini-api/docs/openai\n",
        "external_client = AsyncOpenAI(\n",
        "    api_key=gemini_api_key,\n",
        "    base_url=\"https://generativelanguage.googleapis.com/v1beta/openai/\",\n",
        ")\n",
        "model_settings = ModelSettings(\n",
        "    max_tokens=500,\n",
        "                                              # CHECK All PARAMETERS PICTURE IN MOBILE\n",
        ")\n",
        "\n",
        "model = OpenAIChatCompletionsModel(\n",
        "    model=\"gemini-2.0-flash\",\n",
        "    openai_client=external_client\n",
        ")\n",
        "\n",
        "config = RunConfig(\n",
        "    model=model,\n",
        "    model_provider=external_client,\n",
        "    model_settings=model_settings,\n",
        "    tracing_disabled=True,\n",
        "    workflow_name=\"Customer Support Workflow\" , #tracing k liye use agr na den tu agent workflow by defaul use huta hai\n",
        "    trace_id=\"run-789\",\n",
        "    group_id=\"chat-123\",\n",
        "    trace_metadata={\"user_id\": \"user-1\", \"topic\": \"billing\"}\n",
        ")\n",
        "\n",
        "\n",
        "\n",
        "\n"
      ],
      "metadata": {
        "id": "0THJqvrBhkKb"
      },
      "execution_count": null,
      "outputs": []
    },
    {
      "cell_type": "code",
      "source": [
        "\n",
        "agent = Agent(name=\"Assistant\", instructions=\"Reply very concisely.\")\n",
        "\n",
        "# First turn\n",
        "result = await Runner.run(agent, \"What city is the Golden Gate Bridge in?\",run_config=config)\n",
        "print(result.final_output)\n",
        "        # San Francisco\n",
        "\n",
        "# Second turn\n",
        "new_input = result.to_input_list() + [{\"role\": \"user\", \"content\": \"What state is it in?\"}]\n",
        "result = await Runner.run(agent, new_input,run_config=config)\n",
        "print(result.final_output)\n",
        "        # California"
      ],
      "metadata": {
        "colab": {
          "base_uri": "https://localhost:8080/"
        },
        "id": "FVLGXZDKC5sw",
        "outputId": "cfc7862b-b962-445d-beb0-c184444ed70c"
      },
      "execution_count": null,
      "outputs": [
        {
          "output_type": "stream",
          "name": "stdout",
          "text": [
            "San Francisco.\n",
            "\n",
            "California.\n",
            "\n"
          ]
        }
      ]
    },
    {
      "cell_type": "code",
      "source": [
        "from agents import Agent\n",
        "\n",
        "agent = Agent(\n",
        "    name=\"agent\",\n",
        "\n",
        "\n",
        ")\n"
      ],
      "metadata": {
        "id": "TrTzmapQlYHm"
      },
      "execution_count": null,
      "outputs": []
    },
    {
      "cell_type": "code",
      "source": [
        "from agents import Agent\n",
        "\n",
        "agent = Agent(\n",
        "    name=\"MyAgent\",\n",
        "    instructions=\"You are a helpful assistant.\",\n",
        ")\n",
        "\n",
        "result = await Runner.run(\n",
        "    \"hello\",\n",
        "     agent,\n",
        "     run_config=config\n",
        ")\n",
        "\n",
        "result.final_output\n",
        "\n"
      ],
      "metadata": {
        "colab": {
          "base_uri": "https://localhost:8080/",
          "height": 356
        },
        "id": "O5_3u3xqlzUH",
        "outputId": "b9bab980-288b-4070-c242-1ec0a54c3c0d"
      },
      "execution_count": null,
      "outputs": [
        {
          "output_type": "error",
          "ename": "AttributeError",
          "evalue": "'str' object has no attribute 'get_all_tools'",
          "traceback": [
            "\u001b[0;31m---------------------------------------------------------------------------\u001b[0m",
            "\u001b[0;31mAttributeError\u001b[0m                            Traceback (most recent call last)",
            "\u001b[0;32m/tmp/ipython-input-16-1244032629.py\u001b[0m in \u001b[0;36m<cell line: 1>\u001b[0;34m()\u001b[0m\n\u001b[1;32m      6\u001b[0m )\n\u001b[1;32m      7\u001b[0m \u001b[0;34m\u001b[0m\u001b[0m\n\u001b[0;32m----> 8\u001b[0;31m result = await Runner.run(\n\u001b[0m\u001b[1;32m      9\u001b[0m     \u001b[0;34m\"hello\"\u001b[0m\u001b[0;34m,\u001b[0m\u001b[0;34m\u001b[0m\u001b[0;34m\u001b[0m\u001b[0m\n\u001b[1;32m     10\u001b[0m      \u001b[0magent\u001b[0m\u001b[0;34m,\u001b[0m\u001b[0;34m\u001b[0m\u001b[0;34m\u001b[0m\u001b[0m\n",
            "\u001b[0;32m/usr/local/lib/python3.11/dist-packages/agents/run.py\u001b[0m in \u001b[0;36mrun\u001b[0;34m(cls, starting_agent, input, context, max_turns, hooks, run_config, previous_response_id)\u001b[0m\n\u001b[1;32m    198\u001b[0m         \"\"\"\n\u001b[1;32m    199\u001b[0m         \u001b[0mrunner\u001b[0m \u001b[0;34m=\u001b[0m \u001b[0mDEFAULT_AGENT_RUNNER\u001b[0m\u001b[0;34m\u001b[0m\u001b[0;34m\u001b[0m\u001b[0m\n\u001b[0;32m--> 200\u001b[0;31m         return await runner.run(\n\u001b[0m\u001b[1;32m    201\u001b[0m             \u001b[0mstarting_agent\u001b[0m\u001b[0;34m,\u001b[0m\u001b[0;34m\u001b[0m\u001b[0;34m\u001b[0m\u001b[0m\n\u001b[1;32m    202\u001b[0m             \u001b[0minput\u001b[0m\u001b[0;34m,\u001b[0m\u001b[0;34m\u001b[0m\u001b[0;34m\u001b[0m\u001b[0m\n",
            "\u001b[0;32m/usr/local/lib/python3.11/dist-packages/agents/run.py\u001b[0m in \u001b[0;36mrun\u001b[0;34m(self, starting_agent, input, **kwargs)\u001b[0m\n\u001b[1;32m    357\u001b[0m             \u001b[0;32mtry\u001b[0m\u001b[0;34m:\u001b[0m\u001b[0;34m\u001b[0m\u001b[0;34m\u001b[0m\u001b[0m\n\u001b[1;32m    358\u001b[0m                 \u001b[0;32mwhile\u001b[0m \u001b[0;32mTrue\u001b[0m\u001b[0;34m:\u001b[0m\u001b[0;34m\u001b[0m\u001b[0;34m\u001b[0m\u001b[0m\n\u001b[0;32m--> 359\u001b[0;31m                     \u001b[0mall_tools\u001b[0m \u001b[0;34m=\u001b[0m \u001b[0;32mawait\u001b[0m \u001b[0mAgentRunner\u001b[0m\u001b[0;34m.\u001b[0m\u001b[0m_get_all_tools\u001b[0m\u001b[0;34m(\u001b[0m\u001b[0mcurrent_agent\u001b[0m\u001b[0;34m,\u001b[0m \u001b[0mcontext_wrapper\u001b[0m\u001b[0;34m)\u001b[0m\u001b[0;34m\u001b[0m\u001b[0;34m\u001b[0m\u001b[0m\n\u001b[0m\u001b[1;32m    360\u001b[0m \u001b[0;34m\u001b[0m\u001b[0m\n\u001b[1;32m    361\u001b[0m                     \u001b[0;31m# Start an agent span if we don't have one. This span is ended if the current\u001b[0m\u001b[0;34m\u001b[0m\u001b[0;34m\u001b[0m\u001b[0m\n",
            "\u001b[0;32m/usr/local/lib/python3.11/dist-packages/agents/run.py\u001b[0m in \u001b[0;36m_get_all_tools\u001b[0;34m(cls, agent, context_wrapper)\u001b[0m\n\u001b[1;32m   1124\u001b[0m         \u001b[0mcls\u001b[0m\u001b[0;34m,\u001b[0m \u001b[0magent\u001b[0m\u001b[0;34m:\u001b[0m \u001b[0mAgent\u001b[0m\u001b[0;34m[\u001b[0m\u001b[0mAny\u001b[0m\u001b[0;34m]\u001b[0m\u001b[0;34m,\u001b[0m \u001b[0mcontext_wrapper\u001b[0m\u001b[0;34m:\u001b[0m \u001b[0mRunContextWrapper\u001b[0m\u001b[0;34m[\u001b[0m\u001b[0mAny\u001b[0m\u001b[0;34m]\u001b[0m\u001b[0;34m\u001b[0m\u001b[0;34m\u001b[0m\u001b[0m\n\u001b[1;32m   1125\u001b[0m     ) -> list[Tool]:\n\u001b[0;32m-> 1126\u001b[0;31m         \u001b[0;32mreturn\u001b[0m \u001b[0;32mawait\u001b[0m \u001b[0magent\u001b[0m\u001b[0;34m.\u001b[0m\u001b[0mget_all_tools\u001b[0m\u001b[0;34m(\u001b[0m\u001b[0mcontext_wrapper\u001b[0m\u001b[0;34m)\u001b[0m\u001b[0;34m\u001b[0m\u001b[0;34m\u001b[0m\u001b[0m\n\u001b[0m\u001b[1;32m   1127\u001b[0m \u001b[0;34m\u001b[0m\u001b[0m\n\u001b[1;32m   1128\u001b[0m     \u001b[0;34m@\u001b[0m\u001b[0mclassmethod\u001b[0m\u001b[0;34m\u001b[0m\u001b[0;34m\u001b[0m\u001b[0m\n",
            "\u001b[0;31mAttributeError\u001b[0m: 'str' object has no attribute 'get_all_tools'"
          ]
        }
      ]
    },
    {
      "cell_type": "code",
      "source": [
        "agent = Agent(\n",
        "    name=\"MyAgent\",\n",
        "    instructions=\"You are a helpful assistant.\",\n",
        ")\n",
        "\n",
        "result = await Runner.run(agent,None,run_config=config) # empty string chal jaye ga error nahi aye ga\n",
        "\n",
        "\n",
        "\n",
        "result.final_output\n",
        "\n"
      ],
      "metadata": {
        "colab": {
          "base_uri": "https://localhost:8080/",
          "height": 391
        },
        "id": "84waq3-4Me1m",
        "outputId": "e501003a-556c-4602-f69e-40ca499458b7"
      },
      "execution_count": null,
      "outputs": [
        {
          "output_type": "error",
          "ename": "AttributeError",
          "evalue": "'NoneType' object has no attribute 'extend'",
          "traceback": [
            "\u001b[0;31m---------------------------------------------------------------------------\u001b[0m",
            "\u001b[0;31mAttributeError\u001b[0m                            Traceback (most recent call last)",
            "\u001b[0;32m/tmp/ipython-input-52-1709438037.py\u001b[0m in \u001b[0;36m<cell line: 1>\u001b[0;34m()\u001b[0m\n\u001b[1;32m      4\u001b[0m )\n\u001b[1;32m      5\u001b[0m \u001b[0;34m\u001b[0m\u001b[0m\n\u001b[0;32m----> 6\u001b[0;31m \u001b[0mresult\u001b[0m \u001b[0;34m=\u001b[0m \u001b[0;32mawait\u001b[0m \u001b[0mRunner\u001b[0m\u001b[0;34m.\u001b[0m\u001b[0mrun\u001b[0m\u001b[0;34m(\u001b[0m\u001b[0magent\u001b[0m\u001b[0;34m,\u001b[0m\u001b[0;32mNone\u001b[0m\u001b[0;34m,\u001b[0m\u001b[0mrun_config\u001b[0m\u001b[0;34m=\u001b[0m\u001b[0mconfig\u001b[0m\u001b[0;34m)\u001b[0m\u001b[0;34m\u001b[0m\u001b[0;34m\u001b[0m\u001b[0m\n\u001b[0m\u001b[1;32m      7\u001b[0m \u001b[0;34m\u001b[0m\u001b[0m\n\u001b[1;32m      8\u001b[0m \u001b[0;34m\u001b[0m\u001b[0m\n",
            "\u001b[0;32m/usr/local/lib/python3.11/dist-packages/agents/run.py\u001b[0m in \u001b[0;36mrun\u001b[0;34m(cls, starting_agent, input, context, max_turns, hooks, run_config, previous_response_id)\u001b[0m\n\u001b[1;32m    198\u001b[0m         \"\"\"\n\u001b[1;32m    199\u001b[0m         \u001b[0mrunner\u001b[0m \u001b[0;34m=\u001b[0m \u001b[0mDEFAULT_AGENT_RUNNER\u001b[0m\u001b[0;34m\u001b[0m\u001b[0;34m\u001b[0m\u001b[0m\n\u001b[0;32m--> 200\u001b[0;31m         return await runner.run(\n\u001b[0m\u001b[1;32m    201\u001b[0m             \u001b[0mstarting_agent\u001b[0m\u001b[0;34m,\u001b[0m\u001b[0;34m\u001b[0m\u001b[0;34m\u001b[0m\u001b[0m\n\u001b[1;32m    202\u001b[0m             \u001b[0minput\u001b[0m\u001b[0;34m,\u001b[0m\u001b[0;34m\u001b[0m\u001b[0;34m\u001b[0m\u001b[0m\n",
            "\u001b[0;32m/usr/local/lib/python3.11/dist-packages/agents/run.py\u001b[0m in \u001b[0;36mrun\u001b[0;34m(self, starting_agent, input, **kwargs)\u001b[0m\n\u001b[1;32m    395\u001b[0m \u001b[0;34m\u001b[0m\u001b[0m\n\u001b[1;32m    396\u001b[0m                     \u001b[0;32mif\u001b[0m \u001b[0mcurrent_turn\u001b[0m \u001b[0;34m==\u001b[0m \u001b[0;36m1\u001b[0m\u001b[0;34m:\u001b[0m\u001b[0;34m\u001b[0m\u001b[0;34m\u001b[0m\u001b[0m\n\u001b[0;32m--> 397\u001b[0;31m                         input_guardrail_results, turn_result = await asyncio.gather(\n\u001b[0m\u001b[1;32m    398\u001b[0m                             self._run_input_guardrails(\n\u001b[1;32m    399\u001b[0m                                 \u001b[0mstarting_agent\u001b[0m\u001b[0;34m,\u001b[0m\u001b[0;34m\u001b[0m\u001b[0;34m\u001b[0m\u001b[0m\n",
            "\u001b[0;32m/usr/lib/python3.11/asyncio/tasks.py\u001b[0m in \u001b[0;36m__wakeup\u001b[0;34m(self, future)\u001b[0m\n\u001b[1;32m    347\u001b[0m     \u001b[0;32mdef\u001b[0m \u001b[0m__wakeup\u001b[0m\u001b[0;34m(\u001b[0m\u001b[0mself\u001b[0m\u001b[0;34m,\u001b[0m \u001b[0mfuture\u001b[0m\u001b[0;34m)\u001b[0m\u001b[0;34m:\u001b[0m\u001b[0;34m\u001b[0m\u001b[0;34m\u001b[0m\u001b[0m\n\u001b[1;32m    348\u001b[0m         \u001b[0;32mtry\u001b[0m\u001b[0;34m:\u001b[0m\u001b[0;34m\u001b[0m\u001b[0;34m\u001b[0m\u001b[0m\n\u001b[0;32m--> 349\u001b[0;31m             \u001b[0mfuture\u001b[0m\u001b[0;34m.\u001b[0m\u001b[0mresult\u001b[0m\u001b[0;34m(\u001b[0m\u001b[0;34m)\u001b[0m\u001b[0;34m\u001b[0m\u001b[0;34m\u001b[0m\u001b[0m\n\u001b[0m\u001b[1;32m    350\u001b[0m         \u001b[0;32mexcept\u001b[0m \u001b[0mBaseException\u001b[0m \u001b[0;32mas\u001b[0m \u001b[0mexc\u001b[0m\u001b[0;34m:\u001b[0m\u001b[0;34m\u001b[0m\u001b[0;34m\u001b[0m\u001b[0m\n\u001b[1;32m    351\u001b[0m             \u001b[0;31m# This may also be a cancellation.\u001b[0m\u001b[0;34m\u001b[0m\u001b[0;34m\u001b[0m\u001b[0m\n",
            "\u001b[0;32m/usr/lib/python3.11/asyncio/tasks.py\u001b[0m in \u001b[0;36m__step\u001b[0;34m(***failed resolving arguments***)\u001b[0m\n\u001b[1;32m    275\u001b[0m                 \u001b[0;31m# We use the `send` method directly, because coroutines\u001b[0m\u001b[0;34m\u001b[0m\u001b[0;34m\u001b[0m\u001b[0m\n\u001b[1;32m    276\u001b[0m                 \u001b[0;31m# don't have `__iter__` and `__next__` methods.\u001b[0m\u001b[0;34m\u001b[0m\u001b[0;34m\u001b[0m\u001b[0m\n\u001b[0;32m--> 277\u001b[0;31m                 \u001b[0mresult\u001b[0m \u001b[0;34m=\u001b[0m \u001b[0mcoro\u001b[0m\u001b[0;34m.\u001b[0m\u001b[0msend\u001b[0m\u001b[0;34m(\u001b[0m\u001b[0;32mNone\u001b[0m\u001b[0;34m)\u001b[0m\u001b[0;34m\u001b[0m\u001b[0;34m\u001b[0m\u001b[0m\n\u001b[0m\u001b[1;32m    278\u001b[0m             \u001b[0;32melse\u001b[0m\u001b[0;34m:\u001b[0m\u001b[0;34m\u001b[0m\u001b[0;34m\u001b[0m\u001b[0m\n\u001b[1;32m    279\u001b[0m                 \u001b[0mresult\u001b[0m \u001b[0;34m=\u001b[0m \u001b[0mcoro\u001b[0m\u001b[0;34m.\u001b[0m\u001b[0mthrow\u001b[0m\u001b[0;34m(\u001b[0m\u001b[0mexc\u001b[0m\u001b[0;34m)\u001b[0m\u001b[0;34m\u001b[0m\u001b[0;34m\u001b[0m\u001b[0m\n",
            "\u001b[0;32m/usr/local/lib/python3.11/dist-packages/agents/run.py\u001b[0m in \u001b[0;36m_run_single_turn\u001b[0;34m(cls, agent, all_tools, original_input, generated_items, hooks, context_wrapper, run_config, should_run_agent_start_hooks, tool_use_tracker, previous_response_id)\u001b[0m\n\u001b[1;32m    906\u001b[0m         \u001b[0mhandoffs\u001b[0m \u001b[0;34m=\u001b[0m \u001b[0;32mawait\u001b[0m \u001b[0mcls\u001b[0m\u001b[0;34m.\u001b[0m\u001b[0m_get_handoffs\u001b[0m\u001b[0;34m(\u001b[0m\u001b[0magent\u001b[0m\u001b[0;34m,\u001b[0m \u001b[0mcontext_wrapper\u001b[0m\u001b[0;34m)\u001b[0m\u001b[0;34m\u001b[0m\u001b[0;34m\u001b[0m\u001b[0m\n\u001b[1;32m    907\u001b[0m         \u001b[0minput\u001b[0m \u001b[0;34m=\u001b[0m \u001b[0mItemHelpers\u001b[0m\u001b[0;34m.\u001b[0m\u001b[0minput_to_new_input_list\u001b[0m\u001b[0;34m(\u001b[0m\u001b[0moriginal_input\u001b[0m\u001b[0;34m)\u001b[0m\u001b[0;34m\u001b[0m\u001b[0;34m\u001b[0m\u001b[0m\n\u001b[0;32m--> 908\u001b[0;31m         \u001b[0minput\u001b[0m\u001b[0;34m.\u001b[0m\u001b[0mextend\u001b[0m\u001b[0;34m(\u001b[0m\u001b[0;34m[\u001b[0m\u001b[0mgenerated_item\u001b[0m\u001b[0;34m.\u001b[0m\u001b[0mto_input_item\u001b[0m\u001b[0;34m(\u001b[0m\u001b[0;34m)\u001b[0m \u001b[0;32mfor\u001b[0m \u001b[0mgenerated_item\u001b[0m \u001b[0;32min\u001b[0m \u001b[0mgenerated_items\u001b[0m\u001b[0;34m]\u001b[0m\u001b[0;34m)\u001b[0m\u001b[0;34m\u001b[0m\u001b[0;34m\u001b[0m\u001b[0m\n\u001b[0m\u001b[1;32m    909\u001b[0m \u001b[0;34m\u001b[0m\u001b[0m\n\u001b[1;32m    910\u001b[0m         new_response = await cls._get_new_response(\n",
            "\u001b[0;31mAttributeError\u001b[0m: 'NoneType' object has no attribute 'extend'"
          ]
        }
      ]
    },
    {
      "cell_type": "markdown",
      "source": [
        "# **📉 frequency_penalty: float | None**\n",
        "Kaam: Repeat hone wale words ko punish karta hai.\n",
        "\n",
        "**not available in gemini**\n",
        "\n",
        "Range: 0 to 2.\n",
        "\n",
        "High value (e.g., 1.0): Repetition kam.\n",
        "\n",
        "Use: Jab model bar bar same phrase repeat kar raha ho.\n",
        "\n",
        "# 📈 **presence_penalty: float | None**\n",
        "Kaam: New topics explore karne ka encouragement deta hai.\n",
        "\n",
        "presence_penalty must be in the range [-2.0, 2.0)\n",
        "\n",
        "High value (e.g., 1.5): Model naye concepts laane ki koshish karega.\n",
        "\n",
        "Use: Jab tum fresh, exploratory response chahte ho.\n",
        "\n",
        "\n",
        "#**🛠️ tool_choice: Literal[\"auto\", \"required\", \"none\"] | str | None**\n",
        "Kaam: Tool use karne ka decision model ko kaise lena chahiye.\n",
        "\n",
        "\"auto\" – Model khud decide kare.\n",
        "\n",
        "\"required\" – Tool use zaroor kare.\n",
        "\n",
        "\"none\" – Tool use na kare.\n",
        "\n",
        "Use: Jab tools integrated hon (e.g., weather API, calculator).\n",
        "\n"
      ],
      "metadata": {
        "id": "2YaoX20Vp4io"
      }
    },
    {
      "cell_type": "code",
      "source": [
        "gemini_api_key = userdata.get(\"GEMINI_API_KEY\")\n",
        "\n",
        "\n",
        "# Check if the API key is present; if not, raise an error\n",
        "if not gemini_api_key:\n",
        "    raise ValueError(\"GEMINI_API_KEY is not set. Please ensure it is defined in your .env file.\")\n",
        "\n",
        "#Reference: https://ai.google.dev/gemini-api/docs/openai\n",
        "external_client = AsyncOpenAI(\n",
        "    api_key=gemini_api_key,\n",
        "    base_url=\"https://generativelanguage.googleapis.com/v1beta/openai/\",\n",
        ")\n",
        "model_settings = ModelSettings(\n",
        "    temperature=1,              # temperature range[0.0-2.0]\n",
        "    top_p=0.2,\n",
        "    #frequency_penalty=0.1,\n",
        "    presence_penalty=-1.6,\n",
        "    max_tokens=500,\n",
        "    tool_choice=None,# Gemini mai tool calling ignore kr rha hai wo\n",
        "    #parallel_tool_calls=True   # bad request error   agr ye true hai or tool use nahi kiya tu error nahi aye ga\n",
        ")\n",
        "\n",
        "model = OpenAIChatCompletionsModel(\n",
        "    model=\"gemini-2.0-flash\",\n",
        "    openai_client=external_client\n",
        ")\n",
        "\n",
        "config = RunConfig(\n",
        "    model=model,\n",
        "    model_provider=external_client,\n",
        "    model_settings=model_settings,\n",
        "    tracing_disabled=True\n",
        ")\n",
        "\n",
        "from agents import Agent, Runner\n",
        "import asyncio\n",
        "\n",
        "agent = Agent(\n",
        "    name=\"String Context Agent\",\n",
        "    instructions=\"Respond based on the provided context string.\",\n",
        ")\n",
        "async def main(input):\n",
        "    result = await Runner.run(agent, input=input,run_config=config)\n",
        "    print(result.final_output)\n",
        "\n",
        "# 👇 Corrected input list format\n",
        "asyncio.run(main(\"what is AI\"))\n",
        "\n"
      ],
      "metadata": {
        "colab": {
          "base_uri": "https://localhost:8080/"
        },
        "id": "hHTIx_SOmbkA",
        "outputId": "ee96be10-3c1d-46ff-a732-d16c778d2297"
      },
      "execution_count": null,
      "outputs": [
        {
          "output_type": "stream",
          "name": "stdout",
          "text": [
            "AI, or Artificial Intelligence, is a broad field of computer science focused on creating machines that can perform tasks that typically require human intelligence. These tasks include things like:\n",
            "\n",
            "*   **Learning:** Acquiring information and rules for using the information.\n",
            "*   **Reasoning:** Using rules to reach conclusions (either definite or approximate).\n",
            "*   **Problem-solving:** Discovering a series of actions that lead to a desired goal.\n",
            "*   **Perception:** Using sensors to deduce facts about the world.\n",
            "*   **Language understanding:** Interpreting written and spoken language.\n",
            "\n",
            "In essence, AI aims to develop systems that can think, learn, and act intelligently.\n",
            "\n"
          ]
        }
      ]
    },
    {
      "cell_type": "markdown",
      "source": [
        "# **Run Context**"
      ],
      "metadata": {
        "id": "k4ZSKJAj10Yv"
      }
    },
    {
      "cell_type": "code",
      "source": [
        "from agents import Agent, Runner\n",
        "\n",
        "agent = Agent(\n",
        "    name=\"String Context Agent\",\n",
        "    instructions=\"Respond based on the provided context string.\",\n",
        ")\n",
        "async def main(input):\n",
        "    result = await Runner.run(agent, input=input, context=\"You are Ruba, a student of AI.\"  # ✅ context as string\n",
        "    ,run_config=config)\n",
        "    print(result.final_output)\n",
        "\n",
        "# 👇 Corrected input list format\n",
        "asyncio.run(main(\"who am i\"))\n"
      ],
      "metadata": {
        "colab": {
          "base_uri": "https://localhost:8080/"
        },
        "id": "p_1hMJsQxznM",
        "outputId": "40ca6d1c-e65f-4e95-ce73-d9bf50cd0ca9"
      },
      "execution_count": null,
      "outputs": [
        {
          "output_type": "stream",
          "name": "stdout",
          "text": [
            "I do not have access to personal information, so I don't know who you are.\n",
            "\n"
          ]
        }
      ]
    },
    {
      "cell_type": "code",
      "source": [
        "from dataclasses import dataclass\n",
        "@dataclass\n",
        "class Student():\n",
        "  name: str\n",
        "  age: int\n",
        "  grade: str\n",
        "student1 = Student(\"ruba\",23,\"A+\")"
      ],
      "metadata": {
        "id": "T6NgWD7xkKBQ"
      },
      "execution_count": null,
      "outputs": []
    },
    {
      "cell_type": "code",
      "source": [
        "import asyncio\n",
        "from agents import Agent, handoff, Runner, function_tool\n",
        "\n",
        "@function_tool\n",
        "def get_student_info(name: str) -> str:\n",
        "  \"give information related to student ruba\"\n",
        "  print(\"tool called\")\n",
        "  print(f\"student name is {student1.name} and the age is {student1.age} and the grade is {student1.grade}\")\n",
        "\n",
        "\n",
        "agent = Agent(\n",
        "    name=\"Student agent\",\n",
        "    instructions=\"get information about the student You must always use the tool to answer the user.\",\n",
        "    tools=[get_student_info],\n",
        "\n",
        ")\n",
        "\n",
        "\n",
        "async def main(input: str):\n",
        "    result = await Runner.run(agent, input=input,run_config=config,context=student1,max_turns=1)\n",
        "    print(result.final_output)\n",
        "\n",
        "asyncio.run(main(\"give student information  . student name is ruba\"))\n"
      ],
      "metadata": {
        "colab": {
          "base_uri": "https://localhost:8080/",
          "height": 356
        },
        "id": "-J2Ad8NAiVa0",
        "outputId": "eb0c9bc2-243b-4eb5-cad9-d62c990621a4"
      },
      "execution_count": null,
      "outputs": [
        {
          "output_type": "stream",
          "name": "stdout",
          "text": [
            "tool called\n",
            "student name is ruba and the age is 20 and the grade is A\n"
          ]
        },
        {
          "output_type": "error",
          "ename": "MaxTurnsExceeded",
          "evalue": "Max turns (1) exceeded",
          "traceback": [
            "\u001b[0;31m---------------------------------------------------------------------------\u001b[0m",
            "\u001b[0;31mMaxTurnsExceeded\u001b[0m                          Traceback (most recent call last)",
            "\u001b[0;32m/tmp/ipython-input-41-1492111106.py\u001b[0m in \u001b[0;36m<cell line: 0>\u001b[0;34m()\u001b[0m\n\u001b[1;32m     21\u001b[0m     \u001b[0mprint\u001b[0m\u001b[0;34m(\u001b[0m\u001b[0mresult\u001b[0m\u001b[0;34m.\u001b[0m\u001b[0mfinal_output\u001b[0m\u001b[0;34m)\u001b[0m\u001b[0;34m\u001b[0m\u001b[0;34m\u001b[0m\u001b[0m\n\u001b[1;32m     22\u001b[0m \u001b[0;34m\u001b[0m\u001b[0m\n\u001b[0;32m---> 23\u001b[0;31m \u001b[0masyncio\u001b[0m\u001b[0;34m.\u001b[0m\u001b[0mrun\u001b[0m\u001b[0;34m(\u001b[0m\u001b[0mmain\u001b[0m\u001b[0;34m(\u001b[0m\u001b[0;34m\"give student information  . student name is ruba\"\u001b[0m\u001b[0;34m)\u001b[0m\u001b[0;34m)\u001b[0m\u001b[0;34m\u001b[0m\u001b[0;34m\u001b[0m\u001b[0m\n\u001b[0m",
            "\u001b[0;32m/usr/local/lib/python3.11/dist-packages/nest_asyncio.py\u001b[0m in \u001b[0;36mrun\u001b[0;34m(main, debug)\u001b[0m\n\u001b[1;32m     28\u001b[0m         \u001b[0mtask\u001b[0m \u001b[0;34m=\u001b[0m \u001b[0masyncio\u001b[0m\u001b[0;34m.\u001b[0m\u001b[0mensure_future\u001b[0m\u001b[0;34m(\u001b[0m\u001b[0mmain\u001b[0m\u001b[0;34m)\u001b[0m\u001b[0;34m\u001b[0m\u001b[0;34m\u001b[0m\u001b[0m\n\u001b[1;32m     29\u001b[0m         \u001b[0;32mtry\u001b[0m\u001b[0;34m:\u001b[0m\u001b[0;34m\u001b[0m\u001b[0;34m\u001b[0m\u001b[0m\n\u001b[0;32m---> 30\u001b[0;31m             \u001b[0;32mreturn\u001b[0m \u001b[0mloop\u001b[0m\u001b[0;34m.\u001b[0m\u001b[0mrun_until_complete\u001b[0m\u001b[0;34m(\u001b[0m\u001b[0mtask\u001b[0m\u001b[0;34m)\u001b[0m\u001b[0;34m\u001b[0m\u001b[0;34m\u001b[0m\u001b[0m\n\u001b[0m\u001b[1;32m     31\u001b[0m         \u001b[0;32mfinally\u001b[0m\u001b[0;34m:\u001b[0m\u001b[0;34m\u001b[0m\u001b[0;34m\u001b[0m\u001b[0m\n\u001b[1;32m     32\u001b[0m             \u001b[0;32mif\u001b[0m \u001b[0;32mnot\u001b[0m \u001b[0mtask\u001b[0m\u001b[0;34m.\u001b[0m\u001b[0mdone\u001b[0m\u001b[0;34m(\u001b[0m\u001b[0;34m)\u001b[0m\u001b[0;34m:\u001b[0m\u001b[0;34m\u001b[0m\u001b[0;34m\u001b[0m\u001b[0m\n",
            "\u001b[0;32m/usr/local/lib/python3.11/dist-packages/nest_asyncio.py\u001b[0m in \u001b[0;36mrun_until_complete\u001b[0;34m(self, future)\u001b[0m\n\u001b[1;32m     96\u001b[0m                 raise RuntimeError(\n\u001b[1;32m     97\u001b[0m                     'Event loop stopped before Future completed.')\n\u001b[0;32m---> 98\u001b[0;31m             \u001b[0;32mreturn\u001b[0m \u001b[0mf\u001b[0m\u001b[0;34m.\u001b[0m\u001b[0mresult\u001b[0m\u001b[0;34m(\u001b[0m\u001b[0;34m)\u001b[0m\u001b[0;34m\u001b[0m\u001b[0;34m\u001b[0m\u001b[0m\n\u001b[0m\u001b[1;32m     99\u001b[0m \u001b[0;34m\u001b[0m\u001b[0m\n\u001b[1;32m    100\u001b[0m     \u001b[0;32mdef\u001b[0m \u001b[0m_run_once\u001b[0m\u001b[0;34m(\u001b[0m\u001b[0mself\u001b[0m\u001b[0;34m)\u001b[0m\u001b[0;34m:\u001b[0m\u001b[0;34m\u001b[0m\u001b[0;34m\u001b[0m\u001b[0m\n",
            "\u001b[0;32m/usr/lib/python3.11/asyncio/futures.py\u001b[0m in \u001b[0;36mresult\u001b[0;34m(self)\u001b[0m\n\u001b[1;32m    201\u001b[0m         \u001b[0mself\u001b[0m\u001b[0;34m.\u001b[0m\u001b[0m__log_traceback\u001b[0m \u001b[0;34m=\u001b[0m \u001b[0;32mFalse\u001b[0m\u001b[0;34m\u001b[0m\u001b[0;34m\u001b[0m\u001b[0m\n\u001b[1;32m    202\u001b[0m         \u001b[0;32mif\u001b[0m \u001b[0mself\u001b[0m\u001b[0;34m.\u001b[0m\u001b[0m_exception\u001b[0m \u001b[0;32mis\u001b[0m \u001b[0;32mnot\u001b[0m \u001b[0;32mNone\u001b[0m\u001b[0;34m:\u001b[0m\u001b[0;34m\u001b[0m\u001b[0;34m\u001b[0m\u001b[0m\n\u001b[0;32m--> 203\u001b[0;31m             \u001b[0;32mraise\u001b[0m \u001b[0mself\u001b[0m\u001b[0;34m.\u001b[0m\u001b[0m_exception\u001b[0m\u001b[0;34m.\u001b[0m\u001b[0mwith_traceback\u001b[0m\u001b[0;34m(\u001b[0m\u001b[0mself\u001b[0m\u001b[0;34m.\u001b[0m\u001b[0m_exception_tb\u001b[0m\u001b[0;34m)\u001b[0m\u001b[0;34m\u001b[0m\u001b[0;34m\u001b[0m\u001b[0m\n\u001b[0m\u001b[1;32m    204\u001b[0m         \u001b[0;32mreturn\u001b[0m \u001b[0mself\u001b[0m\u001b[0;34m.\u001b[0m\u001b[0m_result\u001b[0m\u001b[0;34m\u001b[0m\u001b[0;34m\u001b[0m\u001b[0m\n\u001b[1;32m    205\u001b[0m \u001b[0;34m\u001b[0m\u001b[0m\n",
            "\u001b[0;32m/usr/lib/python3.11/asyncio/tasks.py\u001b[0m in \u001b[0;36m__step\u001b[0;34m(***failed resolving arguments***)\u001b[0m\n\u001b[1;32m    275\u001b[0m                 \u001b[0;31m# We use the `send` method directly, because coroutines\u001b[0m\u001b[0;34m\u001b[0m\u001b[0;34m\u001b[0m\u001b[0m\n\u001b[1;32m    276\u001b[0m                 \u001b[0;31m# don't have `__iter__` and `__next__` methods.\u001b[0m\u001b[0;34m\u001b[0m\u001b[0;34m\u001b[0m\u001b[0m\n\u001b[0;32m--> 277\u001b[0;31m                 \u001b[0mresult\u001b[0m \u001b[0;34m=\u001b[0m \u001b[0mcoro\u001b[0m\u001b[0;34m.\u001b[0m\u001b[0msend\u001b[0m\u001b[0;34m(\u001b[0m\u001b[0;32mNone\u001b[0m\u001b[0;34m)\u001b[0m\u001b[0;34m\u001b[0m\u001b[0;34m\u001b[0m\u001b[0m\n\u001b[0m\u001b[1;32m    278\u001b[0m             \u001b[0;32melse\u001b[0m\u001b[0;34m:\u001b[0m\u001b[0;34m\u001b[0m\u001b[0;34m\u001b[0m\u001b[0m\n\u001b[1;32m    279\u001b[0m                 \u001b[0mresult\u001b[0m \u001b[0;34m=\u001b[0m \u001b[0mcoro\u001b[0m\u001b[0;34m.\u001b[0m\u001b[0mthrow\u001b[0m\u001b[0;34m(\u001b[0m\u001b[0mexc\u001b[0m\u001b[0;34m)\u001b[0m\u001b[0;34m\u001b[0m\u001b[0;34m\u001b[0m\u001b[0m\n",
            "\u001b[0;32m/tmp/ipython-input-41-1492111106.py\u001b[0m in \u001b[0;36mmain\u001b[0;34m(input)\u001b[0m\n\u001b[1;32m     18\u001b[0m \u001b[0;34m\u001b[0m\u001b[0m\n\u001b[1;32m     19\u001b[0m \u001b[0;32masync\u001b[0m \u001b[0;32mdef\u001b[0m \u001b[0mmain\u001b[0m\u001b[0;34m(\u001b[0m\u001b[0minput\u001b[0m\u001b[0;34m:\u001b[0m \u001b[0mstr\u001b[0m\u001b[0;34m)\u001b[0m\u001b[0;34m:\u001b[0m\u001b[0;34m\u001b[0m\u001b[0;34m\u001b[0m\u001b[0m\n\u001b[0;32m---> 20\u001b[0;31m     \u001b[0mresult\u001b[0m \u001b[0;34m=\u001b[0m \u001b[0;32mawait\u001b[0m \u001b[0mRunner\u001b[0m\u001b[0;34m.\u001b[0m\u001b[0mrun\u001b[0m\u001b[0;34m(\u001b[0m\u001b[0magent\u001b[0m\u001b[0;34m,\u001b[0m \u001b[0minput\u001b[0m\u001b[0;34m=\u001b[0m\u001b[0minput\u001b[0m\u001b[0;34m,\u001b[0m\u001b[0mrun_config\u001b[0m\u001b[0;34m=\u001b[0m\u001b[0mconfig\u001b[0m\u001b[0;34m,\u001b[0m\u001b[0mcontext\u001b[0m\u001b[0;34m=\u001b[0m\u001b[0mstudent1\u001b[0m\u001b[0;34m,\u001b[0m\u001b[0mmax_turns\u001b[0m\u001b[0;34m=\u001b[0m\u001b[0;36m1\u001b[0m\u001b[0;34m)\u001b[0m\u001b[0;34m\u001b[0m\u001b[0;34m\u001b[0m\u001b[0m\n\u001b[0m\u001b[1;32m     21\u001b[0m     \u001b[0mprint\u001b[0m\u001b[0;34m(\u001b[0m\u001b[0mresult\u001b[0m\u001b[0;34m.\u001b[0m\u001b[0mfinal_output\u001b[0m\u001b[0;34m)\u001b[0m\u001b[0;34m\u001b[0m\u001b[0;34m\u001b[0m\u001b[0m\n\u001b[1;32m     22\u001b[0m \u001b[0;34m\u001b[0m\u001b[0m\n",
            "\u001b[0;32m/usr/local/lib/python3.11/dist-packages/agents/run.py\u001b[0m in \u001b[0;36mrun\u001b[0;34m(cls, starting_agent, input, context, max_turns, hooks, run_config, previous_response_id)\u001b[0m\n\u001b[1;32m    198\u001b[0m         \"\"\"\n\u001b[1;32m    199\u001b[0m         \u001b[0mrunner\u001b[0m \u001b[0;34m=\u001b[0m \u001b[0mDEFAULT_AGENT_RUNNER\u001b[0m\u001b[0;34m\u001b[0m\u001b[0;34m\u001b[0m\u001b[0m\n\u001b[0;32m--> 200\u001b[0;31m         return await runner.run(\n\u001b[0m\u001b[1;32m    201\u001b[0m             \u001b[0mstarting_agent\u001b[0m\u001b[0;34m,\u001b[0m\u001b[0;34m\u001b[0m\u001b[0;34m\u001b[0m\u001b[0m\n\u001b[1;32m    202\u001b[0m             \u001b[0minput\u001b[0m\u001b[0;34m,\u001b[0m\u001b[0;34m\u001b[0m\u001b[0;34m\u001b[0m\u001b[0m\n",
            "\u001b[0;32m/usr/local/lib/python3.11/dist-packages/agents/run.py\u001b[0m in \u001b[0;36mrun\u001b[0;34m(self, starting_agent, input, **kwargs)\u001b[0m\n\u001b[1;32m    388\u001b[0m                             ),\n\u001b[1;32m    389\u001b[0m                         )\n\u001b[0;32m--> 390\u001b[0;31m                         \u001b[0;32mraise\u001b[0m \u001b[0mMaxTurnsExceeded\u001b[0m\u001b[0;34m(\u001b[0m\u001b[0;34mf\"Max turns ({max_turns}) exceeded\"\u001b[0m\u001b[0;34m)\u001b[0m\u001b[0;34m\u001b[0m\u001b[0;34m\u001b[0m\u001b[0m\n\u001b[0m\u001b[1;32m    391\u001b[0m \u001b[0;34m\u001b[0m\u001b[0m\n\u001b[1;32m    392\u001b[0m                     logger.debug(\n",
            "\u001b[0;31mMaxTurnsExceeded\u001b[0m: Max turns (1) exceeded"
          ]
        }
      ]
    },
    {
      "cell_type": "code",
      "source": [
        "from dataclasses import dataclass\n",
        "from agents import RunContextWrapper\n",
        "\n",
        "@dataclass\n",
        "class Student:\n",
        "    name: str\n",
        "    age: int\n",
        "    grade: str\n",
        "\n",
        "student1 = Student(name=\"ruba\", age=20, grade=\"A\")\n",
        "\n",
        "@function_tool\n",
        "def get_student_info(wrapper: RunContextWrapper[Student]) -> str:\n",
        "    student = wrapper.context\n",
        "    return f\"Student name is {student.name}, age is {student.age}, and grade is {student.grade}\"\n",
        "\n",
        "agent = Agent(\n",
        "    name=\"Student Agent\",\n",
        "    instructions=\"Get student details using the context.\",\n",
        "    tools=[get_student_info],\n",
        ")\n",
        "\n",
        "async def main():\n",
        "    result = await Runner.run(\n",
        "        agent,\n",
        "        input=\"Give me student details\",\n",
        "        context=student1, # ✅ context as custom class instance\n",
        "        run_config=config\n",
        "    )\n",
        "    print(result.final_output)\n",
        "\n",
        "asyncio.run(main())\n"
      ],
      "metadata": {
        "colab": {
          "base_uri": "https://localhost:8080/"
        },
        "id": "7EVzOJ5ezHgM",
        "outputId": "dd8116af-225d-41a8-d450-88b59d314d29"
      },
      "execution_count": null,
      "outputs": [
        {
          "output_type": "stream",
          "name": "stdout",
          "text": [
            "Student name is ruba, age is 20, and grade is A.\n",
            "\n"
          ]
        }
      ]
    },
    {
      "cell_type": "markdown",
      "source": [
        "# **How to pass Multiple inputs in list:**"
      ],
      "metadata": {
        "id": "Q5NJ6ItevgSR"
      }
    },
    {
      "cell_type": "code",
      "source": [
        "from agents import Agent, Runner\n",
        "\n",
        "agent = Agent(\n",
        "    name=\"Education Helper Agent\",\n",
        "    instructions=\"You are an educational assistant. Answer questions related to education.\",\n",
        ")\n",
        "async def main(input):\n",
        "    result = await Runner.run(agent, input=input, context=student1,run_config=config)\n",
        "    print(result.final_output)\n",
        "\n",
        "# 👇 Corrected input list format\n",
        "asyncio.run(main([\n",
        "    {\"role\": \"user\", \"content\": \"what is machine learning\"},\n",
        "    {\"role\": \"user\", \"content\": \"write its types\"},\n",
        "    {\"role\":\"user\",\"content\":\"how its emplement\"}\n",
        "]))"
      ],
      "metadata": {
        "colab": {
          "base_uri": "https://localhost:8080/"
        },
        "id": "-TO1Hi-3uxyo",
        "outputId": "3d0f430d-3dbc-4cc9-b166-f6541d029b31"
      },
      "execution_count": null,
      "outputs": [
        {
          "output_type": "stream",
          "name": "stdout",
          "text": [
            "Okay, let's break down machine learning.\n",
            "\n",
            "**What is Machine Learning?**\n",
            "\n",
            "Machine learning (ML) is a subfield of artificial intelligence (AI) that focuses on enabling computer systems to learn from data without being explicitly programmed. In simpler terms, instead of giving a computer specific instructions on how to perform a task, we provide it with data, and the computer learns to identify patterns, make predictions, and improve its performance automatically over time.\n",
            "\n",
            "Think of it like teaching a dog a trick. You don't tell the dog *exactly* how to sit. Instead, you show it what \"sit\" looks like, reward it when it gets close, and eventually, the dog learns the association between the command and the action. Machine learning does something similar, but with data and algorithms.\n",
            "\n",
            "**Key Concepts:**\n",
            "\n",
            "*   **Data:** The foundation of machine learning.  It can be anything: images, text, numbers, sensor readings, etc. The more relevant and high-quality data you have, the better your machine learning model will perform.\n",
            "*   **Algorithms:** These are the mathematical formulas and procedures that the computer uses to learn from the data. Different algorithms are suited for different types of tasks.\n",
            "*   **Model:** The output of the learning process. It's a representation of the patterns and relationships the algorithm has found in the data. This model can then be used to make predictions or decisions on new, unseen data.\n",
            "\n",
            "**Types of Machine Learning**\n",
            "\n",
            "Machine learning algorithms are typically categorized into these types:\n",
            "\n",
            "1.  **Supervised Learning:**\n",
            "\n",
            "    *   **Concept:**  The algorithm learns from a labeled dataset, meaning the data is already tagged with the correct answers.  The algorithm's goal is to learn a mapping function that can predict the correct output for new, unseen input.\n",
            "    *   **Analogy:**  Imagine learning to identify different types of fruit. You're shown pictures of apples, bananas, and oranges, and each picture is labeled with the correct fruit name. After seeing enough examples, you can then identify new fruits correctly.\n",
            "    *   **Common Algorithms:**\n",
            "        *   **Regression:**  Predicting a continuous value (e.g., predicting house prices based on features like size and location).\n",
            "        *   **Classification:**  Predicting a category or class (e.g., identifying whether an email is spam or not spam).\n",
            "        *\n"
          ]
        }
      ]
    },
    {
      "cell_type": "markdown",
      "source": [
        "# **previous_response_id**"
      ],
      "metadata": {
        "id": "VwZNfIRg_8Aa"
      }
    },
    {
      "cell_type": "code",
      "source": [
        "import asyncio\n",
        "from agents import Agent, Runner, function_tool\n",
        "from dataclasses import dataclass\n",
        "\n",
        "@dataclass\n",
        "class Student:\n",
        "    name: str\n",
        "    age: int\n",
        "    grade: str\n",
        "\n",
        "student1 = Student(name=\"ruba\", age=20, grade=\"A\")\n",
        "\n",
        "@function_tool\n",
        "def get_student_info(name: str) -> str:\n",
        "    print(\"tool called\")\n",
        "    return f\"Student name is {student1.name}, age is {student1.age}, and grade is {student1.grade}\"\n",
        "\n",
        "agent = Agent(\n",
        "    name=\"Education Helper Agent\",\n",
        "    instructions=\"You are an educational assistant. Answer questions related to education and provide student details when asked.\",\n",
        "    tools=[get_student_info],\n",
        ")\n",
        "\n",
        "\n",
        "async def main(input):\n",
        "    result = await Runner.run(agent, input=input, context=student1,run_config=config)\n",
        "    print(result.final_output)\n",
        "\n",
        "# 👇 Corrected input list format\n",
        "asyncio.run(main([\n",
        "    {\"role\": \"user\", \"content\": \"what is ai\"},\n",
        "    {\"role\": \"user\", \"content\": \"what is machine learning\"}\n",
        "]))\n"
      ],
      "metadata": {
        "colab": {
          "base_uri": "https://localhost:8080/"
        },
        "id": "OJv3RW0ptQWD",
        "outputId": "c65b7a97-3542-4508-d937-67e62fac3b05"
      },
      "execution_count": null,
      "outputs": [
        {
          "output_type": "stream",
          "name": "stdout",
          "text": [
            "Machine learning is a subfield of artificial intelligence (AI) that focuses on enabling computers to learn from data without being explicitly programmed. Instead of relying on pre-defined rules, machine learning algorithms identify patterns, make predictions, and improve their performance over time as they are exposed to more data.\n",
            "\n"
          ]
        }
      ]
    },
    {
      "cell_type": "code",
      "source": [
        "agent = Agent(\n",
        "    name=\"Education Helper Agent\",\n",
        "    instructions=\"You are an educational assistant. Answer questions related to education.\",\n",
        ")\n",
        "\n",
        "# pehla message\n",
        "res1 = await Runner.run(\n",
        "    agent,\n",
        "    input=\"what is machine learning\",\n",
        "    run_config=config\n",
        ")\n",
        "print(\"1:\", res1.final_output)\n",
        "respond_id: str = \"what is machine learning\"     # jo question phly kia tha same wohi question likhna hai werna sumjhjhy ga nahi wo or error bhi nahi aye ga\n",
        "\n",
        "# doosra message – same agent, continuation\n",
        "res2 = await Runner.run(\n",
        "    agent,\n",
        "    input=\"what is the types\",\n",
        "    previous_response_id=respond_id,# 👈 yahan se link ho gaya\n",
        "    run_config=config\n",
        ")\n",
        "print(\"2:\", res2.final_output)\n"
      ],
      "metadata": {
        "colab": {
          "base_uri": "https://localhost:8080/"
        },
        "id": "CuXg7dZp4zOp",
        "outputId": "9f45624c-a120-42bc-af7b-4da4e7494126"
      },
      "execution_count": null,
      "outputs": [
        {
          "output_type": "stream",
          "name": "stdout",
          "text": [
            "1: Machine learning (ML) is a subfield of artificial intelligence (AI) that focuses on enabling computer systems to learn from data without being explicitly programmed. Instead of relying on pre-defined rules, ML algorithms identify patterns, make predictions, and improve their performance over time as they are exposed to more data.\n",
            "\n",
            "Here's a breakdown of key concepts:\n",
            "\n",
            "*   **Learning from Data:** ML algorithms learn from data, which can be in various forms like numbers, text, images, or audio.\n",
            "*   **Patterns and Insights:** ML algorithms identify patterns, relationships, and insights within the data.\n",
            "*   **Predictions and Decisions:** Based on the learned patterns, ML algorithms make predictions about future data or make decisions.\n",
            "*   **Improvement Over Time:** ML algorithms improve their performance as they are exposed to more data, refining their models and becoming more accurate.\n",
            "\n",
            "If you want to learn more, I recommend these resources:\n",
            "*   **\"Machine Learning for Beginners\" by Microsoft:** This series offers a practical, project-based introduction to machine learning concepts. [https://github.com/microsoft/ML-For-Beginners](https://github.com/microsoft/ML-For-Beginners)\n",
            "*   **\"Machine Learning Crash Course\" by Google:** This is a free, comprehensive course that covers various machine learning topics. [https://developers.google.com/machine-learning/crash-course](https://developers.google.com/machine-learning/crash-course)\n",
            "*   **\"Introduction to Machine Learning with Python\" by Analytics Vidhya:** This article provides an overview of machine learning concepts and demonstrates how to implement them using Python. [https://www.analyticsvidhya.com/blog/2021/10/a-comprehensive-guide-to-machine-learning/](https://www.analyticsvidhya.com/blog/2021/10/a-comprehensive-guide-to-machine-learning/)\n",
            "2: Okay, to give you the best answer, I need a little more information!  \"Types\" is a very broad term.  What context are you asking about?  For example, are you interested in:\n",
            "\n",
            "*   **Types of writing?** (e.g., narrative, persuasive, expository, descriptive)\n",
            "*   **Types of data?** (e.g., integer, string, boolean)\n",
            "*   **Types of learning styles?** (e.g., visual, auditory, kinesthetic)\n",
            "*   **Types of assessments?** (e.g., formative, summative)\n",
            "*   **Types of energy?** (e.g. kinetic, potential, thermal)\n",
            "\n",
            "Once I know the subject, I can provide a much more helpful and specific answer.\n"
          ]
        }
      ]
    }
  ]
}