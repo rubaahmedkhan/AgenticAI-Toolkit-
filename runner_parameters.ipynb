{
  "nbformat": 4,
  "nbformat_minor": 0,
  "metadata": {
    "colab": {
      "provenance": [],
      "authorship_tag": "ABX9TyOFsTPTui8au/UsLzW63M9K",
      "include_colab_link": true
    },
    "kernelspec": {
      "name": "python3",
      "display_name": "Python 3"
    },
    "language_info": {
      "name": "python"
    }
  },
  "cells": [
    {
      "cell_type": "markdown",
      "metadata": {
        "id": "view-in-github",
        "colab_type": "text"
      },
      "source": [
        "<a href=\"https://colab.research.google.com/github/rubaahmedkhan/AgenticAI-Toolkit-/blob/main/runner_parameters.ipynb\" target=\"_parent\"><img src=\"https://colab.research.google.com/assets/colab-badge.svg\" alt=\"Open In Colab\"/></a>"
      ]
    },
    {
      "cell_type": "code",
      "execution_count": null,
      "metadata": {
        "colab": {
          "base_uri": "https://localhost:8080/"
        },
        "id": "o54CyRAug8BJ",
        "outputId": "b89fab20-14e5-4337-a73c-5996814180a3"
      },
      "outputs": [
        {
          "output_type": "stream",
          "name": "stdout",
          "text": [
            "\u001b[?25l   \u001b[90m━━━━━━━━━━━━━━━━━━━━━━━━━━━━━━━━━━━━━━━━\u001b[0m \u001b[32m0.0/121.9 kB\u001b[0m \u001b[31m?\u001b[0m eta \u001b[36m-:--:--\u001b[0m\r\u001b[2K   \u001b[90m━━━━━━━━━━━━━━━━━━━━━━━━━━━━━━━━━━━━━━━━\u001b[0m \u001b[32m121.9/121.9 kB\u001b[0m \u001b[31m4.6 MB/s\u001b[0m eta \u001b[36m0:00:00\u001b[0m\n",
            "\u001b[?25h\u001b[?25l   \u001b[90m━━━━━━━━━━━━━━━━━━━━━━━━━━━━━━━━━━━━━━━━\u001b[0m \u001b[32m0.0/129.3 kB\u001b[0m \u001b[31m?\u001b[0m eta \u001b[36m-:--:--\u001b[0m\r\u001b[2K   \u001b[90m━━━━━━━━━━━━━━━━━━━━━━━━━━━━━━━━━━━━━━━━\u001b[0m \u001b[32m129.3/129.3 kB\u001b[0m \u001b[31m6.8 MB/s\u001b[0m eta \u001b[36m0:00:00\u001b[0m\n",
            "\u001b[2K   \u001b[90m━━━━━━━━━━━━━━━━━━━━━━━━━━━━━━━━━━━━━━━━\u001b[0m \u001b[32m130.2/130.2 kB\u001b[0m \u001b[31m6.0 MB/s\u001b[0m eta \u001b[36m0:00:00\u001b[0m\n",
            "\u001b[2K   \u001b[90m━━━━━━━━━━━━━━━━━━━━━━━━━━━━━━━━━━━━━━━━\u001b[0m \u001b[32m44.4/44.4 kB\u001b[0m \u001b[31m1.3 MB/s\u001b[0m eta \u001b[36m0:00:00\u001b[0m\n",
            "\u001b[?25h"
          ]
        }
      ],
      "source": [
        "!pip install  -qU openai-agents"
      ]
    },
    {
      "cell_type": "code",
      "source": [
        "import nest_asyncio\n",
        "nest_asyncio.apply()"
      ],
      "metadata": {
        "id": "dwuO0WonhUod"
      },
      "execution_count": null,
      "outputs": []
    },
    {
      "cell_type": "code",
      "source": [
        "import os\n",
        "\n",
        "from agents import Agent, Runner, AsyncOpenAI, OpenAIChatCompletionsModel, ModelSettings\n",
        "from agents.run import RunConfig\n",
        "from google.colab import userdata\n",
        "\n"
      ],
      "metadata": {
        "id": "CQTg0NvZhasw"
      },
      "execution_count": null,
      "outputs": []
    },
    {
      "cell_type": "code",
      "source": [
        "gemini_api_key = userdata.get(\"GEMINI_API_KEY\")\n",
        "\n",
        "\n",
        "# Check if the API key is present; if not, raise an error\n",
        "if not gemini_api_key:\n",
        "    raise ValueError(\"GEMINI_API_KEY is not set. Please ensure it is defined in your .env file.\")\n",
        "\n",
        "#Reference: https://ai.google.dev/gemini-api/docs/openai\n",
        "external_client = AsyncOpenAI(\n",
        "    api_key=gemini_api_key,\n",
        "    base_url=\"https://generativelanguage.googleapis.com/v1beta/openai/\",\n",
        ")\n",
        "model_settings = ModelSettings(\n",
        "    max_tokens=500,\n",
        "                                              # CHECK All PARAMETERS PICTURE IN MOBILE\n",
        ")\n",
        "\n",
        "model = OpenAIChatCompletionsModel(\n",
        "    model=\"gemini-2.0-flash\",\n",
        "    openai_client=external_client\n",
        ")\n",
        "\n",
        "config = RunConfig(\n",
        "    model=model,\n",
        "    model_provider=external_client,\n",
        "    model_settings=model_settings,\n",
        "    tracing_disabled=True\n",
        ")"
      ],
      "metadata": {
        "id": "0THJqvrBhkKb"
      },
      "execution_count": null,
      "outputs": []
    },
    {
      "cell_type": "markdown",
      "source": [
        "# **📉 frequency_penalty: float | None**\n",
        "Kaam: Repeat hone wale words ko punish karta hai.\n",
        "\n",
        "**not available in gemini**\n",
        "\n",
        "Range: 0 to 2.\n",
        "\n",
        "High value (e.g., 1.0): Repetition kam.\n",
        "\n",
        "Use: Jab model bar bar same phrase repeat kar raha ho.\n",
        "\n",
        "# 📈 **presence_penalty: float | None**\n",
        "Kaam: New topics explore karne ka encouragement deta hai.\n",
        "\n",
        "presence_penalty must be in the range [-2.0, 2.0)\n",
        "\n",
        "High value (e.g., 1.5): Model naye concepts laane ki koshish karega.\n",
        "\n",
        "Use: Jab tum fresh, exploratory response chahte ho.\n",
        "\n",
        "\n",
        "#**🛠️ tool_choice: Literal[\"auto\", \"required\", \"none\"] | str | None**\n",
        "Kaam: Tool use karne ka decision model ko kaise lena chahiye.\n",
        "\n",
        "\"auto\" – Model khud decide kare.\n",
        "\n",
        "\"required\" – Tool use zaroor kare.\n",
        "\n",
        "\"none\" – Tool use na kare.\n",
        "\n",
        "Use: Jab tools integrated hon (e.g., weather API, calculator).\n",
        "\n"
      ],
      "metadata": {
        "id": "2YaoX20Vp4io"
      }
    },
    {
      "cell_type": "code",
      "source": [
        "gemini_api_key = userdata.get(\"GEMINI_API_KEY\")\n",
        "\n",
        "\n",
        "# Check if the API key is present; if not, raise an error\n",
        "if not gemini_api_key:\n",
        "    raise ValueError(\"GEMINI_API_KEY is not set. Please ensure it is defined in your .env file.\")\n",
        "\n",
        "#Reference: https://ai.google.dev/gemini-api/docs/openai\n",
        "external_client = AsyncOpenAI(\n",
        "    api_key=gemini_api_key,\n",
        "    base_url=\"https://generativelanguage.googleapis.com/v1beta/openai/\",\n",
        ")\n",
        "model_settings = ModelSettings(\n",
        "    temperature=1,              # temperature range[0.0-2.0]\n",
        "    top_p=0.2,\n",
        "    #frequency_penalty=0.1,\n",
        "    presence_penalty=-1.6,\n",
        "    max_tokens=500,\n",
        "    tool_choice=None,# Gemini mai tool calling ignore kr rha hai wo\n",
        "    parallel_tool_calls=True\n",
        ")\n",
        "\n",
        "model = OpenAIChatCompletionsModel(\n",
        "    model=\"gemini-2.0-flash\",\n",
        "    openai_client=external_client\n",
        ")\n",
        "\n",
        "config = RunConfig(\n",
        "    model=model,\n",
        "    model_provider=external_client,\n",
        "    model_settings=model_settings,\n",
        "    tracing_disabled=True\n",
        ")\n",
        "\n",
        "from agents import Agent, Runner\n",
        "import asyncio\n",
        "\n",
        "agent = Agent(\n",
        "    name=\"String Context Agent\",\n",
        "    instructions=\"Respond based on the provided context string.\",\n",
        ")\n",
        "async def main(input):\n",
        "    result = await Runner.run(agent, input=input,run_config=config)\n",
        "    print(result.final_output)\n",
        "\n",
        "# 👇 Corrected input list format\n",
        "asyncio.run(main(\"what is AI\"))\n",
        "\n"
      ],
      "metadata": {
        "colab": {
          "base_uri": "https://localhost:8080/"
        },
        "id": "hHTIx_SOmbkA",
        "outputId": "07711b76-e742-4864-eab7-2e719255ef2b"
      },
      "execution_count": null,
      "outputs": [
        {
          "output_type": "stream",
          "name": "stdout",
          "text": [
            "AI, or Artificial Intelligence, is a broad field of computer science focused on creating machines that can perform tasks that typically require human intelligence. These tasks include things like:\n",
            "\n",
            "*   **Learning:** Acquiring information and rules for using the information.\n",
            "*   **Reasoning:** Using rules to reach conclusions (either definite or approximate).\n",
            "*   **Problem-solving:** Discovering a series of actions that lead to a desired goal.\n",
            "*   **Perception:** Using sensors to deduce facts about the world.\n",
            "*   **Language understanding:** Interpreting written and spoken language.\n",
            "\n",
            "In essence, AI aims to develop systems that can think, learn, and act intelligently.\n",
            "\n"
          ]
        }
      ]
    },
    {
      "cell_type": "markdown",
      "source": [
        "# **Run Context**"
      ],
      "metadata": {
        "id": "k4ZSKJAj10Yv"
      }
    },
    {
      "cell_type": "code",
      "source": [
        "from agents import Agent, Runner\n",
        "\n",
        "agent = Agent(\n",
        "    name=\"String Context Agent\",\n",
        "    instructions=\"Respond based on the provided context string.\",\n",
        ")\n",
        "async def main(input):\n",
        "    result = await Runner.run(agent, input=input, context=\"You are Ruba, a student of AI.\"  # ✅ context as string\n",
        "    ,run_config=config)\n",
        "    print(result.final_output)\n",
        "\n",
        "# 👇 Corrected input list format\n",
        "asyncio.run(main(\"who am i\"))\n"
      ],
      "metadata": {
        "colab": {
          "base_uri": "https://localhost:8080/"
        },
        "id": "p_1hMJsQxznM",
        "outputId": "b5b0f4aa-62d0-4fbf-90e5-f7c42b4078a7"
      },
      "execution_count": null,
      "outputs": [
        {
          "output_type": "stream",
          "name": "stdout",
          "text": [
            "I do not have access to personal information that would allow me to identify you. I am an AI and do not know who you are.\n",
            "\n"
          ]
        }
      ]
    },
    {
      "cell_type": "code",
      "source": [
        "from dataclasses import dataclass\n",
        "@dataclass\n",
        "class Student():\n",
        "  name: str\n",
        "  age: int\n",
        "  grade: str\n",
        "student1 = Student(\"ruba\",23,\"A+\")"
      ],
      "metadata": {
        "id": "T6NgWD7xkKBQ"
      },
      "execution_count": null,
      "outputs": []
    },
    {
      "cell_type": "code",
      "source": [
        "import asyncio\n",
        "from agents import Agent, handoff, Runner, function_tool\n",
        "\n",
        "@function_tool\n",
        "def get_student_info(name: str) -> str:\n",
        "  \"give information related to student ruba\"\n",
        "  print(\"tool called\")\n",
        "  print(f\"student name is {student1.name} and the age is {student1.age} and the grade is {student1.grade}\")\n",
        "\n",
        "\n",
        "agent = Agent(\n",
        "    name=\"Student agent\",\n",
        "    instructions=\"get information about the student You must always use the tool to answer the user.\",\n",
        "    tools=[get_student_info],\n",
        "\n",
        ")\n",
        "@function_tool\n",
        "def get_student_info(name: str) -> str:\n",
        "  print(\"tool called\")\n",
        "  print(f\"student name is {Student.name} and the age is {Student.age} and the grade is {Student.grade}\")\n",
        "\n",
        "\n",
        "async def main(input: str):\n",
        "    result = await Runner.run(agent, input=input,run_config=config,context=student1)\n",
        "    print(result.final_output)\n",
        "\n",
        "asyncio.run(main(\"give student information  . student name is ruba\"))\n"
      ],
      "metadata": {
        "colab": {
          "base_uri": "https://localhost:8080/"
        },
        "id": "-J2Ad8NAiVa0",
        "outputId": "ec283ad0-31ad-4e0e-afc2-75d033bc8daf"
      },
      "execution_count": null,
      "outputs": [
        {
          "output_type": "stream",
          "name": "stdout",
          "text": [
            "tool called\n",
            "student name is ruba and the age is 23 and the grade is A+\n",
            "I'm sorry, I couldn't find any information about the student Ruba.\n"
          ]
        }
      ]
    },
    {
      "cell_type": "code",
      "source": [
        "from dataclasses import dataclass\n",
        "from agents import RunContextWrapper\n",
        "\n",
        "@dataclass\n",
        "class Student:\n",
        "    name: str\n",
        "    age: int\n",
        "    grade: str\n",
        "\n",
        "student1 = Student(name=\"ruba\", age=20, grade=\"A\")\n",
        "\n",
        "@function_tool\n",
        "def get_student_info(wrapper: RunContextWrapper[Student]) -> str:\n",
        "    student = wrapper.context\n",
        "    return f\"Student name is {student.name}, age is {student.age}, and grade is {student.grade}\"\n",
        "\n",
        "agent = Agent(\n",
        "    name=\"Student Agent\",\n",
        "    instructions=\"Get student details using the context.\",\n",
        "    tools=[get_student_info],\n",
        ")\n",
        "\n",
        "async def main():\n",
        "    result = await Runner.run(\n",
        "        agent,\n",
        "        input=\"Give me student details\",\n",
        "        context=student1, # ✅ context as custom class instance\n",
        "        run_config=config\n",
        "    )\n",
        "    print(result.final_output)\n",
        "\n",
        "asyncio.run(main())\n"
      ],
      "metadata": {
        "colab": {
          "base_uri": "https://localhost:8080/"
        },
        "id": "7EVzOJ5ezHgM",
        "outputId": "33c552aa-c77a-4e47-fb56-93dd4fe99105"
      },
      "execution_count": null,
      "outputs": [
        {
          "output_type": "stream",
          "name": "stdout",
          "text": [
            "I am sorry, I cannot fulfill this request. The available tools lack the desired functionality.\n",
            "\n"
          ]
        }
      ]
    },
    {
      "cell_type": "markdown",
      "source": [
        "# **How to pass Multiple inputs in list:**"
      ],
      "metadata": {
        "id": "Q5NJ6ItevgSR"
      }
    },
    {
      "cell_type": "code",
      "source": [
        "from agents import Agent, Runner\n",
        "\n",
        "agent = Agent(\n",
        "    name=\"Education Helper Agent\",\n",
        "    instructions=\"You are an educational assistant. Answer questions related to education.\",\n",
        ")\n",
        "async def main(input):\n",
        "    result = await Runner.run(agent, input=input, context=student1,run_config=config)\n",
        "    print(result.final_output)\n",
        "\n",
        "# 👇 Corrected input list format\n",
        "asyncio.run(main([\n",
        "    {\"role\": \"user\", \"content\": \"what is ai\"},\n",
        "    {\"role\": \"user\", \"content\": \"what is machine learning\"}\n",
        "]))"
      ],
      "metadata": {
        "colab": {
          "base_uri": "https://localhost:8080/"
        },
        "id": "-TO1Hi-3uxyo",
        "outputId": "9f54a48a-5b45-4d47-8ce4-563a8893966f"
      },
      "execution_count": null,
      "outputs": [
        {
          "output_type": "stream",
          "name": "stdout",
          "text": [
            "Okay, let's break down **Machine Learning (ML)**:\n",
            "\n",
            "**What is Machine Learning?**\n",
            "\n",
            "Machine Learning is a *subset* of Artificial Intelligence (AI). It's all about enabling computers to learn from data without being explicitly programmed. Instead of writing specific instructions for every possible scenario, you feed the machine learning algorithm a lot of data, and it figures out the patterns and rules on its own.\n",
            "\n",
            "**Here's a simplified analogy:**\n",
            "\n",
            "Imagine you want to teach a child to identify cats.\n",
            "\n",
            "*   **Without Machine Learning (Traditional Programming):** You would have to give the child very specific rules: \"Cats have pointy ears, whiskers, four legs, and a tail.\"  But what if the cat is missing a tail, or has rounded ears? The child might get confused.\n",
            "*   **With Machine Learning:** You show the child hundreds or thousands of pictures of cats (and pictures of things that *aren't* cats). The child's brain (or in this case, the machine learning algorithm) starts to recognize the common features of cats and learns to distinguish them from other animals, even if they don't perfectly match the initial description.\n",
            "\n",
            "**Key aspects of Machine Learning:**\n",
            "\n",
            "*   **Learning from Data:**  ML algorithms learn from data. The more data, the better they usually perform.\n",
            "*   **Algorithms:** These are the specific methods or formulas that the machine uses to learn.  Examples include:\n",
            "    *   **Linear Regression:**  For predicting a continuous value (e.g., predicting house prices).\n",
            "    *   **Logistic Regression:**  For classifying things into categories (e.g., spam or not spam).\n",
            "    *   **Decision Trees:** For making decisions based on a tree-like structure.\n",
            "    *   **Support Vector Machines (SVMs):**  For classification.\n",
            "    *   **Neural Networks:**  Inspired by the structure of the human brain, used for complex tasks like image recognition and natural language processing.\n",
            "*   **Predictions and Decisions:**  After learning from the data, the ML model can make predictions about new, unseen data or make decisions based on its learned knowledge.\n",
            "*   **Improvement Over Time:** The \"learning\" part means the algorithm gets better and more accurate as it's exposed to more data.\n",
            "\n",
            "**In a nutshell:** Machine learning is about teaching computers to learn from data so they can make predictions\n"
          ]
        }
      ]
    },
    {
      "cell_type": "markdown",
      "source": [
        "# **previous_response_id**"
      ],
      "metadata": {
        "id": "VwZNfIRg_8Aa"
      }
    },
    {
      "cell_type": "code",
      "source": [
        "import asyncio\n",
        "from agents import Agent, Runner, function_tool\n",
        "from dataclasses import dataclass\n",
        "\n",
        "@dataclass\n",
        "class Student:\n",
        "    name: str\n",
        "    age: int\n",
        "    grade: str\n",
        "\n",
        "student1 = Student(name=\"ruba\", age=20, grade=\"A\")\n",
        "\n",
        "@function_tool\n",
        "def get_student_info(name: str) -> str:\n",
        "    print(\"tool called\")\n",
        "    return f\"Student name is {student1.name}, age is {student1.age}, and grade is {student1.grade}\"\n",
        "\n",
        "agent = Agent(\n",
        "    name=\"Education Helper Agent\",\n",
        "    instructions=\"You are an educational assistant. Answer questions related to education and provide student details when asked.\",\n",
        "    tools=[get_student_info],\n",
        ")\n",
        "\n",
        "\n",
        "async def main(input):\n",
        "    result = await Runner.run(agent, input=input, context=student1,run_config=config)\n",
        "    print(result.final_output)\n",
        "\n",
        "# 👇 Corrected input list format\n",
        "asyncio.run(main([\n",
        "    {\"role\": \"user\", \"content\": \"what is ai\"},\n",
        "    {\"role\": \"user\", \"content\": \"what is machine learning\"}\n",
        "]))\n"
      ],
      "metadata": {
        "colab": {
          "base_uri": "https://localhost:8080/"
        },
        "id": "OJv3RW0ptQWD",
        "outputId": "c65b7a97-3542-4508-d937-67e62fac3b05"
      },
      "execution_count": null,
      "outputs": [
        {
          "output_type": "stream",
          "name": "stdout",
          "text": [
            "Machine learning is a subfield of artificial intelligence (AI) that focuses on enabling computers to learn from data without being explicitly programmed. Instead of relying on pre-defined rules, machine learning algorithms identify patterns, make predictions, and improve their performance over time as they are exposed to more data.\n",
            "\n"
          ]
        }
      ]
    },
    {
      "cell_type": "code",
      "source": [
        "agent = Agent(\n",
        "    name=\"Education Helper Agent\",\n",
        "    instructions=\"You are an educational assistant. Answer questions related to education.\",\n",
        ")\n",
        "\n",
        "# pehla message\n",
        "res1 = await Runner.run(\n",
        "    agent,\n",
        "    input=\"what is machine learning\",\n",
        "    run_config=config\n",
        ")\n",
        "print(\"1:\", res1.final_output)\n",
        "respond_id: str = \"what is machine learning\"     # jo question phly kia tha same wohi question likhna hai werna sumjhjhy ga nahi wo or error bhi nahi aye ga\n",
        "\n",
        "# doosra message – same agent, continuation\n",
        "res2 = await Runner.run(\n",
        "    agent,\n",
        "    input=\"what is the types\",\n",
        "    previous_response_id=respond_id,# 👈 yahan se link ho gaya\n",
        "    run_config=config\n",
        ")\n",
        "print(\"2:\", res2.final_output)\n"
      ],
      "metadata": {
        "colab": {
          "base_uri": "https://localhost:8080/"
        },
        "id": "CuXg7dZp4zOp",
        "outputId": "9f45624c-a120-42bc-af7b-4da4e7494126"
      },
      "execution_count": null,
      "outputs": [
        {
          "output_type": "stream",
          "name": "stdout",
          "text": [
            "1: Machine learning (ML) is a subfield of artificial intelligence (AI) that focuses on enabling computer systems to learn from data without being explicitly programmed. Instead of relying on pre-defined rules, ML algorithms identify patterns, make predictions, and improve their performance over time as they are exposed to more data.\n",
            "\n",
            "Here's a breakdown of key concepts:\n",
            "\n",
            "*   **Learning from Data:** ML algorithms learn from data, which can be in various forms like numbers, text, images, or audio.\n",
            "*   **Patterns and Insights:** ML algorithms identify patterns, relationships, and insights within the data.\n",
            "*   **Predictions and Decisions:** Based on the learned patterns, ML algorithms make predictions about future data or make decisions.\n",
            "*   **Improvement Over Time:** ML algorithms improve their performance as they are exposed to more data, refining their models and becoming more accurate.\n",
            "\n",
            "If you want to learn more, I recommend these resources:\n",
            "*   **\"Machine Learning for Beginners\" by Microsoft:** This series offers a practical, project-based introduction to machine learning concepts. [https://github.com/microsoft/ML-For-Beginners](https://github.com/microsoft/ML-For-Beginners)\n",
            "*   **\"Machine Learning Crash Course\" by Google:** This is a free, comprehensive course that covers various machine learning topics. [https://developers.google.com/machine-learning/crash-course](https://developers.google.com/machine-learning/crash-course)\n",
            "*   **\"Introduction to Machine Learning with Python\" by Analytics Vidhya:** This article provides an overview of machine learning concepts and demonstrates how to implement them using Python. [https://www.analyticsvidhya.com/blog/2021/10/a-comprehensive-guide-to-machine-learning/](https://www.analyticsvidhya.com/blog/2021/10/a-comprehensive-guide-to-machine-learning/)\n",
            "2: Okay, to give you the best answer, I need a little more information!  \"Types\" is a very broad term.  What context are you asking about?  For example, are you interested in:\n",
            "\n",
            "*   **Types of writing?** (e.g., narrative, persuasive, expository, descriptive)\n",
            "*   **Types of data?** (e.g., integer, string, boolean)\n",
            "*   **Types of learning styles?** (e.g., visual, auditory, kinesthetic)\n",
            "*   **Types of assessments?** (e.g., formative, summative)\n",
            "*   **Types of energy?** (e.g. kinetic, potential, thermal)\n",
            "\n",
            "Once I know the subject, I can provide a much more helpful and specific answer.\n"
          ]
        }
      ]
    }
  ]
}