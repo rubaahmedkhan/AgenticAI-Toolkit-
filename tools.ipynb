{
  "nbformat": 4,
  "nbformat_minor": 0,
  "metadata": {
    "colab": {
      "provenance": [],
      "authorship_tag": "ABX9TyOaPayJJgQT65J3M4KIkJXv",
      "include_colab_link": true
    },
    "kernelspec": {
      "name": "python3",
      "display_name": "Python 3"
    },
    "language_info": {
      "name": "python"
    }
  },
  "cells": [
    {
      "cell_type": "markdown",
      "metadata": {
        "id": "view-in-github",
        "colab_type": "text"
      },
      "source": [
        "<a href=\"https://colab.research.google.com/github/rubaahmedkhan/AgenticAI-Toolkit-/blob/main/tools.ipynb\" target=\"_parent\"><img src=\"https://colab.research.google.com/assets/colab-badge.svg\" alt=\"Open In Colab\"/></a>"
      ]
    },
    {
      "cell_type": "markdown",
      "source": [
        "⚙️ SDK Kya Karta Hai?\n",
        "Jab aap koi Python function SDK mein \"tool\" ke tor par use karte hain, to SDK khud-ba-khud yeh kaam karta hai:\n",
        "\n",
        "1. Tool ka Naam:\n",
        "Agar aap naam nahi dete, to function ka naam hi tool ka naam ban jata hai.\n",
        "\n",
        "python\n",
        "Copy\n",
        "Edit\n",
        "def get_weather(city: str): ...\n",
        "# Tool name: get_weather\n",
        "2. Tool ka Description:\n",
        "Function ke docstring se liya jata hai (ya aap manually de sakte hain).\n",
        "\n",
        "python\n",
        "Copy\n",
        "Edit\n",
        "def get_weather(city: str):\n",
        "    \"\"\"Get the current weather for a given city.\"\"\"\n",
        "    ...\n",
        "# Tool description: \"Get the current weather for a given city.\"\n",
        "3. Input Schema Automatically Ban Jata Hai:\n",
        "Python ke function arguments (e.g., city: str) se input ka schema banta hai.\n",
        "\n",
        "Aapko manually JSON schema banani ki zarurat nahi hoti.\n",
        "\n",
        "4. Input Argument Descriptions:\n",
        "Har input argument ka description bhi docstring se nikaala jata hai (agar enable ho).\n",
        "\n",
        "🔍 Yeh Sab Kaise Hota Hai? (Backend Details)\n",
        "SDK use karta hai:\n",
        "\n",
        "inspect module → function signature ko analyze karne ke liye.\n",
        "\n",
        "griffe → docstring ko parse karne ke liye.\n",
        "\n",
        "pydantic → input validation aur schema generation ke liye.\n",
        "\n",
        "\n",
        "\n",
        "\n",
        "\n",
        "\n",
        "\n"
      ],
      "metadata": {
        "id": "9QxfwxFDpmBc"
      }
    },
    {
      "cell_type": "code",
      "source": [
        "!pip install  -qU openai-agents"
      ],
      "metadata": {
        "colab": {
          "base_uri": "https://localhost:8080/"
        },
        "id": "ZZYktGE-rayI",
        "outputId": "e41fdb8f-dcc2-47e7-925d-369ba4ee4568"
      },
      "execution_count": null,
      "outputs": [
        {
          "output_type": "stream",
          "name": "stdout",
          "text": [
            "\u001b[?25l   \u001b[90m━━━━━━━━━━━━━━━━━━━━━━━━━━━━━━━━━━━━━━━━\u001b[0m \u001b[32m0.0/126.7 kB\u001b[0m \u001b[31m?\u001b[0m eta \u001b[36m-:--:--\u001b[0m\r\u001b[2K   \u001b[90m━━━━━━━━━━━━━━━━━━━━━━━━━━━━━━━━━━━━━━━━\u001b[0m \u001b[32m126.7/126.7 kB\u001b[0m \u001b[31m7.4 MB/s\u001b[0m eta \u001b[36m0:00:00\u001b[0m\n",
            "\u001b[?25h\u001b[?25l   \u001b[90m━━━━━━━━━━━━━━━━━━━━━━━━━━━━━━━━━━━━━━━━\u001b[0m \u001b[32m0.0/129.3 kB\u001b[0m \u001b[31m?\u001b[0m eta \u001b[36m-:--:--\u001b[0m\r\u001b[2K   \u001b[90m━━━━━━━━━━━━━━━━━━━━━━━━━━━━━━━━━━━━━━━━\u001b[0m \u001b[32m129.3/129.3 kB\u001b[0m \u001b[31m7.7 MB/s\u001b[0m eta \u001b[36m0:00:00\u001b[0m\n",
            "\u001b[2K   \u001b[90m━━━━━━━━━━━━━━━━━━━━━━━━━━━━━━━━━━━━━━━━\u001b[0m \u001b[32m130.2/130.2 kB\u001b[0m \u001b[31m7.7 MB/s\u001b[0m eta \u001b[36m0:00:00\u001b[0m\n",
            "\u001b[2K   \u001b[90m━━━━━━━━━━━━━━━━━━━━━━━━━━━━━━━━━━━━━━━━\u001b[0m \u001b[32m45.2/45.2 kB\u001b[0m \u001b[31m2.4 MB/s\u001b[0m eta \u001b[36m0:00:00\u001b[0m\n",
            "\u001b[?25h"
          ]
        }
      ]
    },
    {
      "cell_type": "code",
      "source": [
        "import nest_asyncio\n",
        "nest_asyncio.apply()"
      ],
      "metadata": {
        "id": "Wf6XJ4_-rxxh"
      },
      "execution_count": null,
      "outputs": []
    },
    {
      "cell_type": "code",
      "source": [
        "import os\n",
        "\n",
        "from agents import Agent, Runner, AsyncOpenAI, OpenAIChatCompletionsModel, ModelSettings, function_tool\n",
        "from agents.run import RunConfig\n",
        "from google.colab import userdata\n"
      ],
      "metadata": {
        "id": "ShO29gaHr8qH"
      },
      "execution_count": null,
      "outputs": []
    },
    {
      "cell_type": "code",
      "source": [
        "gemini_api_key = userdata.get(\"GEMINI_API_KEY\")\n",
        "\n",
        "\n",
        "# Check if the API key is present; if not, raise an error\n",
        "if not gemini_api_key:\n",
        "    raise ValueError(\"GEMINI_API_KEY is not set. Please ensure it is defined in your .env file.\")\n",
        "\n",
        "#Reference: https://ai.google.dev/gemini-api/docs/openai\n",
        "external_client = AsyncOpenAI(\n",
        "    api_key=gemini_api_key,\n",
        "    base_url=\"https://generativelanguage.googleapis.com/v1beta/openai/\",\n",
        ")\n",
        "model_settings = ModelSettings(\n",
        "    max_tokens=50,\n",
        "                                              # CHECK All PARAMETERS PICTURE IN MOBILE\n",
        ")\n",
        "\n",
        "model = OpenAIChatCompletionsModel(\n",
        "    model=\"gemini-2.0-flash\",\n",
        "    openai_client=external_client\n",
        ")\n",
        "\n",
        "config = RunConfig(\n",
        "    model=model,\n",
        "    model_provider=external_client,\n",
        "    model_settings=model_settings,\n",
        "    tracing_disabled=False,\n",
        ")"
      ],
      "metadata": {
        "id": "v7-3KRmlr_o6"
      },
      "execution_count": null,
      "outputs": []
    },
    {
      "cell_type": "code",
      "source": [
        "@function_tool\n",
        "def greet(name: str):\n",
        "    \"\"\"Say hello to someone.\"\"\"\n",
        "    return f\"Hello, {name}!\"\n"
      ],
      "metadata": {
        "id": "2e6WtwyHsxlc"
      },
      "execution_count": null,
      "outputs": []
    },
    {
      "cell_type": "code",
      "source": [
        "tool = function_tool(greet)\n"
      ],
      "metadata": {
        "id": "M88iCAzYs9OP"
      },
      "execution_count": null,
      "outputs": []
    },
    {
      "cell_type": "code",
      "source": [
        "# Tool NAME OVERWRIGHT\n",
        "\n",
        "@function_tool(name_override=\"custom_greeting\") #Now tool name will be custom_greeting, not greet.\n",
        "\n",
        "\n",
        "def greet(name: str):\n",
        "    \"\"\"Say hello to someone.\"\"\"\n",
        "    return f\"Hello, {name}!\"\n"
      ],
      "metadata": {
        "id": "FNiV02-ptOeq"
      },
      "execution_count": null,
      "outputs": []
    },
    {
      "cell_type": "code",
      "source": [
        "#🔹3. description_override: str | None = None\n",
        "\n",
        "# Function ki docstring ke bajaye, aap manually description de sakte hain.\n",
        "\n",
        "@function_tool(description_override=\"This tool greets users in a custom way.\")\n",
        "def greet(name: str):\n",
        "    \"\"\"Old docstring ignored.\"\"\"\n",
        "    return f\"Hello, {name}!\"\n"
      ],
      "metadata": {
        "id": "fN3ol4w3tygr"
      },
      "execution_count": null,
      "outputs": []
    },
    {
      "cell_type": "code",
      "source": [
        "# 🔹4. docstring_style: DocstringStyle | None = None\n",
        "# Batata hai ke docstring ka format kaunsa hai — like google, numpy, ya sphinx. SDK griffe library se docstring ko parse karta hai.\n",
        "\n",
        "@function_tool(docstring_style=\"google\")\n",
        "def get_sum(a: int, b: int):\n",
        "    \"\"\"\n",
        "    Add two numbers.\n",
        "\n",
        "    Args:\n",
        "        a: First number.\n",
        "        b: Second number.\n",
        "    \"\"\"\n",
        "    return a + b\n"
      ],
      "metadata": {
        "id": "bB8ETYtYuNld"
      },
      "execution_count": null,
      "outputs": []
    },
    {
      "cell_type": "code",
      "source": [
        "# 🔹5. use_docstring_info: bool = True\n",
        "# ✅ Kya karta hai:\n",
        "# Agar True ho to function ke docstring se:\n",
        "\n",
        "# Tool ka description\n",
        "\n",
        "# Input parameter descriptions\n",
        "\n",
        "# automatically extract karta hai.\n",
        "\n",
        "# Agar False ho to docstring ignore kar di jati hai.\n",
        "\n",
        "@function_tool(use_docstring_info=False)\n",
        "def get_sum(a: int, b: int):\n",
        "    \"\"\"Will be ignored.\"\"\"\n",
        "    return a + b\n"
      ],
      "metadata": {
        "id": "T5AimUsUw6cM"
      },
      "execution_count": null,
      "outputs": []
    },
    {
      "cell_type": "code",
      "source": [
        "# 🔹6. failure_error_function: ToolErrorFunction | None = default_tool_error_function\n",
        "# ✅ Kya karta hai:\n",
        "# Agar tool fail kare (e.g., invalid input ya crash), to yeh function run hota hai error handle karne ke liye.\n",
        "\n",
        "def custom_error_handler(error: Exception) -> str:\n",
        "    return f\"Tool failed: {str(error)}\"\n",
        "\n",
        "@function_tool(failure_error_function=custom_error_handler)\n",
        "def divide(a: int, b: int):\n",
        "    \"\"\"Divide two numbers.\"\"\"\n",
        "    return a / b\n"
      ],
      "metadata": {
        "id": "6KF5dIbSxplC"
      },
      "execution_count": null,
      "outputs": []
    },
    {
      "cell_type": "code",
      "source": [
        "# 🔹7. strict_mode: bool = True\n",
        "# ✅ Kya karta hai:\n",
        "# Agar True ho to input validation strictly hoti hai — agar koi argument missing ya invalid type ho to error throw hoti hai.\n",
        "\n",
        "# Agar False ho to thoda lax hota hai — default ya None values allow karta hai.\n",
        "\n",
        "@function_tool(strict_mode=True)\n",
        "def square(n: int):\n",
        "    \"\"\"Returns square of number.\"\"\"\n",
        "    return n * n\n"
      ],
      "metadata": {
        "id": "9dPQ4zBByOwi"
      },
      "execution_count": null,
      "outputs": []
    },
    {
      "cell_type": "markdown",
      "source": [
        "🔚 Summary Table:\n",
        "Parameter\t        Purpose\t             Default\n",
        "\n",
        "func\tThe function being wrapped\t     Required\n",
        "\n",
        "name_override\tOverride tool name\t     None\n",
        "\n",
        "description_override\tOverride tool description\t                           None\n",
        "\n",
        "docstring_style\tDocstring format (google, numpy, etc.)\t                                None\n",
        "\n",
        "use_docstring_info\tUse docstring for name/\n",
        "\n",
        "description\t                          True\n",
        "failure_error_function\tCustom error handler\tdefault_tool_error_function\n",
        "strict_mode\tEnforce strict type/input checking\tTrue\n",
        "\n",
        "\n",
        "\n",
        "\n",
        "\n",
        "\n",
        "\n",
        "\n",
        "\n",
        "\n",
        "\n"
      ],
      "metadata": {
        "id": "zn3ZRnHqyp66"
      }
    },
    {
      "cell_type": "markdown",
      "source": [
        " **failure_error_function:** If provided, use this function to generate an error message when\n",
        "            the tool call fails. The error message is sent to the LLM. If you pass None, then no\n",
        "            error message will be sent and instead an Exception will be raised."
      ],
      "metadata": {
        "id": "fsh4zKowz4UV"
      }
    },
    {
      "cell_type": "code",
      "source": [
        "from agents import Agent, Runner, function_tool\n",
        "from typing import Callable\n",
        "import traceback\n",
        "\n",
        "\n",
        "# ✅ 1. Custom error function for failed tool calls\n",
        "def my_error_handler(error: Exception) -> str:\n",
        "    return f\"⚠️ Error occurred: {str(error)}\"\n",
        "\n",
        "\n",
        "# ✅ 2. Tool using all parameters\n",
        "@function_tool(\n",
        "    name_override=\"custom_divide\",\n",
        "    description_override=\"Divides two numbers with error handling and custom parsing.\",\n",
        "    docstring_style=\"google\",\n",
        "    use_docstring_info=True,\n",
        "    failure_error_function=my_error_handler,\n",
        "    strict_mode=True\n",
        ")\n",
        "def divide_numbers(numerator: float, denominator: float) -> float:\n",
        "    \"\"\"\n",
        "    Performs division of two numbers.\n",
        "\n",
        "    Args:\n",
        "        numerator: The number to be divided.\n",
        "        denominator: The number to divide by.\n",
        "\n",
        "    Returns:\n",
        "        The result of dividing numerator by denominator.\n",
        "    \"\"\"\n",
        "    return numerator / denominator\n",
        "\n",
        "\n",
        "# ✅ 3. Define agent that can use this tool\n",
        "math_agent = Agent(\n",
        "    name=\"Math Assistant\",\n",
        "    instructions=\"You are a helpful math assistant. Use tools to calculate answers accurately.\",\n",
        "    tools=[divide_numbers]  # Tool is already decorated with `function_tool`\n",
        ")\n",
        "\n",
        "\n",
        "# ✅ 4. Run the agent using Runner\n",
        "import asyncio\n",
        "\n",
        "async def main():\n",
        "    # 🟢 Case 1: Successful division\n",
        "    result_ok = await Runner.run(\n",
        "        math_agent,\n",
        "        input=\"Please divide 20 by 5.\",\n",
        "        run_config=config,\n",
        "\n",
        "\n",
        "    )\n",
        "    print(\"✅ Success Output:\\n\", result_ok.final_output)\n",
        "\n",
        "    # 🔴 Case 2: Division by zero (handled gracefully by error function)\n",
        "try:\n",
        "    result_fail = await Runner.run(\n",
        "        math_agent,\n",
        "        input=\"Please divide 20 by 0.\",\n",
        "        run_config=config,\n",
        "\n",
        "    )\n",
        "\n",
        "except Exception as e:\n",
        "    print(\"🔴 Error Output:\\n\", e)\n",
        "\n",
        "\n",
        "# Run the async main function\n",
        "asyncio.run(main())\n"
      ],
      "metadata": {
        "colab": {
          "base_uri": "https://localhost:8080/"
        },
        "id": "FU1HA0IWz3Bc",
        "outputId": "9c926693-9b84-4f57-9fdb-b7fa73e4ae2c"
      },
      "execution_count": null,
      "outputs": [
        {
          "output_type": "stream",
          "name": "stdout",
          "text": [
            "🔴 Error Output:\n",
            " Error running tool custom_divide: my_error_handler() takes 1 positional argument but 2 were given\n",
            "✅ Success Output:\n",
            " The answer is 4.0.\n",
            "\n"
          ]
        }
      ]
    },
    {
      "cell_type": "markdown",
      "source": [
        "def as_tool(\n",
        "\n",
        "        self,\n",
        "        \n",
        "        tool_name: str | None,\n",
        "        tool_description: str | None,\n",
        "        custom_output_extractor: Callable[[RunResult], Awaitable[str]] | None = None,\n",
        "    ) -> Tool:"
      ],
      "metadata": {
        "id": "7sil_SJr1HA7"
      }
    },
    {
      "cell_type": "code",
      "source": [
        "from agents import Agent, Runner\n",
        "\n",
        "# Ek simple agent banate hain\n",
        "translator_agent = Agent(\n",
        "    name=\"TranslatorAgent\",\n",
        "    instructions=\"You are a translator. You only translate English text to Urdu. Do not say anything else.\"\n",
        ")\n",
        "\n",
        "# Us agent ko ek tool bana dete hain using `.as_tool()`\n",
        "translator_tool = translator_agent.as_tool(\n",
        "    tool_name=\"english_to_urdu_translator\",\n",
        "    tool_description=\"Translates English sentences into Urdu.\"\n",
        ")\n",
        "\n",
        "# Ab yeh tool kisi aur agent ko diya ja sakta hai\n",
        "main_agent = Agent(\n",
        "    name=\"MainAgent\",\n",
        "    instructions=\"You are a multi-purpose assistant.\",\n",
        "    tools=[translator_tool]\n",
        ")\n",
        "\n",
        "# Run\n",
        "import asyncio\n",
        "async def main():\n",
        "    result = await Runner.run(\n",
        "        main_agent,\n",
        "        input=\"Translate in urdu: 'How are you?'\",\n",
        "        run_config=config,\n",
        "    )\n",
        "    print(result.final_output)\n",
        "\n",
        "asyncio.run(main())\n"
      ],
      "metadata": {
        "colab": {
          "base_uri": "https://localhost:8080/"
        },
        "id": "7hynMyGjy1eA",
        "outputId": "86dcc2c2-65b7-476b-f2ab-c6e5bb83ed3d"
      },
      "execution_count": null,
      "outputs": [
        {
          "output_type": "stream",
          "name": "stdout",
          "text": [
            "I am unable to translate this right now. Please try again in sometime.\n",
            "\n"
          ]
        }
      ]
    },
    {
      "cell_type": "markdown",
      "source": [
        "# **stop_at_tool_names**\n",
        "A list of tool names, any of which will stop the agent from running further."
      ],
      "metadata": {
        "id": "K0dPAYM-8K33"
      }
    },
    {
      "cell_type": "code",
      "source": [
        "stop_at_tool_names: list[str] = [\"get_sum\"]"
      ],
      "metadata": {
        "id": "_w9-Bln77kNi"
      },
      "execution_count": null,
      "outputs": []
    },
    {
      "cell_type": "markdown",
      "source": [
        "# **Most important**"
      ],
      "metadata": {
        "id": "8aHGRBhPuvxr"
      }
    },
    {
      "cell_type": "markdown",
      "source": [
        "\"\"\"The name of the tool, as shown to the LLM. Generally the name of the function.\"\"\"\n",
        "\n",
        "\"\"\"A description of the tool, as shown to the LLM.\"\"\"\n",
        "\n",
        "✅ params_json_schema: dict[str, Any]\n",
        "\n",
        "\"\"\"The JSON schema for the tool's parameters.\"\"\"\n",
        "Batata hai ke tool ko kaunse inputs chahiye, kis format mein.\n",
        "\n",
        "LLM ko guide karta hai ke function call karte waqt kaunse fields aur data types dene hain.\n",
        "\n",
        "\n",
        "💡 params_json_schema ka kaam:\n",
        "LLM ko batana hota hai ke tool ko chalane ke liye kaunse inputs chahiye, unka type kya hai, aur kaun required hain.\n",
        "\n",
        "Yani LLM agar kisi tool ko use karna chahta hai, to use pata hona chahiye ke:\n",
        "\n",
        "Mujhe kya keys bhejni hain (e.g. \"city\", \"unit\")\n",
        "\n",
        "Har key ka data type kya hai (e.g. \"string\", \"int\")\n",
        "\n",
        "Kaunse fields zaroori hain (required list)\n",
        "\n",
        "✅ strict_json_schema: bool = True\n",
        "python\n",
        "Copy\n",
        "Edit\n",
        "\"\"\"Whether the JSON schema is in strict mode...\"\"\"\n",
        "Agar True ho (recommended), to schema ke hisaab se strict checking hogi:\n",
        "\n",
        "Agar koi required parameter missing ho ya type match na kare to error aayegi.\n",
        "\n",
        "LLM ko majboor kiya jata hai ke sahi input JSON banaye.\n",
        "\n",
        "Default: True\n",
        "Kab False karein? Agar tum lenient format chahte ho (not recommended).\n",
        "\n",
        "🎯 Summary:\n",
        "params_json_schema batata hai:\n",
        "“Kya-kya inputs chahiye aur unka format kya hai”\n",
        "\n",
        "strict_json_schema batata hai:\n",
        "“Kya LLM ko ye schema strictly follow karna padega?”\n",
        "\n",
        "✅ is_enabled: bool | Callable = True\n",
        "Ye field batati hai:\n",
        "\n",
        "\"Kya ye tool agent ke use karne ke liye allowed hai ya nahi?\"\n",
        "\n",
        "\"\"\"Whether the tool is enabled. Either a bool or a Callable...\"\"\"\n",
        "Ye batata hai ke tool enabled hai ya nahi.\n",
        "\n",
        "Tum isay 2 tarah se de sakti ho:\n",
        "\n",
        "Fixed value (e.g., True ya False)\n",
        "\n",
        "Function (Callable) jo context dekh kar decide kare — jese:\n",
        "\n",
        "User role ke hisaab se\n",
        "\n",
        "Kya system state allow karta hai, etc.\n",
        "\n",
        "✅ on_invoke_tool: Callable[[ToolContext[Any], str], Awaitable[Any]]\n",
        "python\n",
        "Copy\n",
        "Edit\n",
        "\"\"\"Function that invokes the tool with the given context and parameters...\"\"\"\n",
        "Yeh actual Python function hai jo tab chalta hai jab tool call hota hai.\n",
        "\n",
        "Is function ko do arguments milte hain:\n",
        "\n",
        "ToolContext (tool ke environment ka info hota hai)\n",
        "\n",
        "params string — LLM ne jo arguments JSON mein diye.\n",
        "\n",
        "Tumhe return karna hota hai:\n",
        "✔️ Ya to string result\n",
        "❌ Ya Exception (agar tool fail ho)\n",
        "❗ Ya error message string (agar error ho par crash na karna ho)\n",
        "\n",
        "\n",
        "✅ \"Return a string representation of the tool output\"\n",
        "Matlab:\n",
        "\n",
        "Tumhara tool jo bhi result return kare, usay string ki form mein hona chahiye ya aisi cheez honi chahiye jisko str() se string banaya ja sake.\n",
        "\n",
        "Example 1: Direct string return karo (Best ✅)\n",
        "python\n",
        "Copy\n",
        "Edit\n",
        "return \"Temperature in Lahore is 33°C\"\n",
        "Example 2: Return a number (acceptable, because str(33) = \"33\")\n",
        "python\n",
        "Copy\n",
        "Edit\n",
        "return 33  # backend will auto call str(33)\n",
        "Example 3: Return a dictionary (also okay)\n",
        "python\n",
        "Copy\n",
        "Edit\n",
        "return {\"status\": \"success\", \"value\": 42}\n",
        "LLM backend str() use karega, aur ban jayega:\n",
        "\n",
        "arduino\n",
        "Copy\n",
        "Edit\n",
        "\"{'status': 'success', 'value': 42}\"\n",
        "❗ \"In case of errors...\"\n",
        "Yani agar tool chalate waqt error ho jaye, to tum do tareeqe use kar sakti ho:\n",
        "\n",
        "1️⃣ Raise Exception → run fail ho jayega\n",
        "python\n",
        "Copy\n",
        "Edit\n",
        "raise ValueError(\"City name not found\")\n",
        "Result:\n",
        "\n",
        "Agent ka run fail ho jata hai\n",
        "\n",
        "Exception log hoti hai\n",
        "\n",
        "LLM ko kuch nahi milta\n",
        "\n",
        "2️⃣ Return string error message → LLM ko show ho jata hai\n",
        "python\n",
        "Copy\n",
        "Edit\n",
        "return \"❌ Error: City not found. Please try again.\"\n",
        "Result:\n",
        "\n",
        "Run fail nahi hota\n",
        "\n",
        "LLM ko ye error message string milta hai\n",
        "\n",
        "Agent usay user ko reply mein bhej sakta hai\n",
        "\n",
        "🧠 Summary:\n",
        "Return Type\tAllowed?\tWhy?\n",
        "\"Hello!\" (string)\t✅ Yes\tAlready a string\n",
        "42 (int)\t✅ Yes\tstr(42) → \"42\"\n",
        "{\"x\": 1} (dict)\t✅ Yes\tstr() will stringify\n",
        "None\t❌ No\tNothing to return\n",
        "raise Exception\t✅ Yes\tFails the tool run\n",
        "\"❌ Error occurred\"\t✅ Yes\tLLM can display it\n",
        "\n",
        "final_output_as\n",
        "\n",
        "final_output_as(\n",
        "    cls: type[T], raise_if_incorrect_type: bool = False\n",
        ") -> T\n",
        "A convenience method to cast the final output to a specific type. By default, the cast is only for the typechecker. If you set raise_if_incorrect_type to True, we'll raise a TypeError if the final output is not of the given type."
      ],
      "metadata": {
        "id": "u3yms7XPu7fF"
      }
    },
    {
      "cell_type": "code",
      "source": [
        "result = await Runner.run(agent, input=\"Get weather info\")\n",
        "\n",
        "output = result.final_output_as(str)  # 👈 This assumes output is a string\n",
        "print(\"Result:\", output)\n",
        "# agr str nahi input tu phr bhi koi erroer nahi aye ga"
      ],
      "metadata": {
        "id": "wAhMmyuV7Dan"
      },
      "execution_count": null,
      "outputs": []
    }
  ]
}